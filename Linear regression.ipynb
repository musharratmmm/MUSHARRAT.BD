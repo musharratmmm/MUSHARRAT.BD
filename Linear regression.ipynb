{
 "cells": [
  {
   "cell_type": "code",
   "execution_count": null,
   "id": "436043d6-0c5e-429e-bde0-446b379e6ac8",
   "metadata": {},
   "outputs": [],
   "source": [
    "#!pip install library_name "
   ]
  },
  {
   "cell_type": "code",
   "execution_count": 3,
   "id": "c642b982-fa4f-4d7a-a6a4-0e869584aa10",
   "metadata": {},
   "outputs": [],
   "source": [
    "import numpy as np\n",
    "import pandas as pd\n",
    "from sklearn.metrics import mean_squared_error, mean_absolute_error"
   ]
  },
  {
   "cell_type": "code",
   "execution_count": 4,
   "id": "d1fb3a7b-e76a-4375-9ae3-695d3bf2ece4",
   "metadata": {},
   "outputs": [],
   "source": [
    "data = {\n",
    "    \"Weight\": [2, 4, 5, 3, 6, 5, 7],\n",
    "    \"Price\": [35, 60, 20, 50, 50, 55, 60]}"
   ]
  },
  {
   "cell_type": "code",
   "execution_count": 6,
   "id": "505a2133-d41b-492c-9da4-d1cc5f936da4",
   "metadata": {},
   "outputs": [],
   "source": [
    "df = pd.DataFrame(data)"
   ]
  },
  {
   "cell_type": "code",
   "execution_count": 9,
   "id": "d1c7463c-a2a8-4e10-8778-c4a47580f1d9",
   "metadata": {},
   "outputs": [],
   "source": [
    "x=df['Weight']\n",
    "y=df['Price']"
   ]
  },
  {
   "cell_type": "code",
   "execution_count": 14,
   "id": "116f8850-d385-404a-aa6b-f7e15c6a0b89",
   "metadata": {},
   "outputs": [],
   "source": [
    "# Task-1:\n",
    "x_mean=np.mean(x)\n",
    "y_mean=np.mean(y)"
   ]
  },
  {
   "cell_type": "code",
   "execution_count": 15,
   "id": "b0d061b7-3aa6-414b-8052-1b71c5fc17b9",
   "metadata": {},
   "outputs": [],
   "source": [
    "M= np.sum((x-x_mean)*(y-y_mean))/np.sum((x-x_mean)**2)\n",
    "C=C = y_mean - M * x_mean"
   ]
  },
  {
   "cell_type": "markdown",
   "id": "ea3ef9ea-c365-462b-9032-79abb7f1a891",
   "metadata": {},
   "source": [
    "## predicted_price = M * 6 + C\n",
    "print(f\"Slope (M): {M:.2f}, Y-Intercept (C): {C:.2f}\")\n",
    "print(f\"Predicted price for a weight of 6: {predicted_price:.2f}\")"
   ]
  },
  {
   "cell_type": "code",
   "execution_count": 17,
   "id": "69fa4a76-b3a1-4387-a262-c6074f8bf4d3",
   "metadata": {},
   "outputs": [],
   "source": [
    "#Task-2:\n",
    "df[\"Predicted Price\"] = M * df[\"Weight\"] + C\n",
    "df[\"Residual\"] = df[\"Price\"] - df[\"Predicted Price\"]"
   ]
  },
  {
   "cell_type": "code",
   "execution_count": 20,
   "id": "e9358251-b93a-4c02-816c-1f818514db32",
   "metadata": {},
   "outputs": [
    {
     "name": "stdout",
     "output_type": "stream",
     "text": [
      "\n",
      "Residuals:\n",
      "   Weight  Price  Predicted Price   Residual\n",
      "0       2     35        40.403226  -5.403226\n",
      "1       4     60        45.645161  14.354839\n",
      "2       5     20        48.266129 -28.266129\n",
      "3       3     50        43.024194   6.975806\n",
      "4       6     50        50.887097  -0.887097\n",
      "5       5     55        48.266129   6.733871\n",
      "6       7     60        53.508065   6.491935\n"
     ]
    }
   ],
   "source": [
    "print(\"\\nResiduals:\")\n",
    "print(df[[\"Weight\", \"Price\", \"Predicted Price\", \"Residual\"]])"
   ]
  },
  {
   "cell_type": "code",
   "execution_count": 21,
   "id": "afadf517-99dd-4902-a037-9c48c55e269b",
   "metadata": {},
   "outputs": [],
   "source": [
    "mse = mean_squared_error(df[\"Price\"], df[\"Predicted Price\"])\n",
    "mae = mean_absolute_error(df[\"Price\"], df[\"Predicted Price\"])"
   ]
  },
  {
   "cell_type": "code",
   "execution_count": 23,
   "id": "4b961cd5-0b03-424c-a769-43f1eaada9f9",
   "metadata": {},
   "outputs": [
    {
     "name": "stdout",
     "output_type": "stream",
     "text": [
      "\n",
      "Mean Squared Error (MSE): 167.31\n",
      "Mean Absolute Error (MAE): 9.87\n"
     ]
    }
   ],
   "source": [
    "print(f\"\\nMean Squared Error (MSE): {mse:.2f}\")\n",
    "print(f\"Mean Absolute Error (MAE): {mae:.2f}\")"
   ]
  },
  {
   "cell_type": "code",
   "execution_count": 24,
   "id": "0b6d8a9a-79cf-4a49-808a-482f577b2153",
   "metadata": {},
   "outputs": [
    {
     "name": "stdout",
     "output_type": "stream",
     "text": [
      "\n",
      "Results saved to linear_regression_Assg.xlsx\n"
     ]
    }
   ],
   "source": [
    "output_file = \"linear_regression_Assg.xlsx\"\n",
    "df.to_excel(output_file, index=False)\n",
    "print(f\"\\nResults saved to {output_file}\")"
   ]
  }
 ],
 "metadata": {
  "kernelspec": {
   "display_name": "Python 3 (ipykernel)",
   "language": "python",
   "name": "python3"
  },
  "language_info": {
   "codemirror_mode": {
    "name": "ipython",
    "version": 3
   },
   "file_extension": ".py",
   "mimetype": "text/x-python",
   "name": "python",
   "nbconvert_exporter": "python",
   "pygments_lexer": "ipython3",
   "version": "3.12.7"
  }
 },
 "nbformat": 4,
 "nbformat_minor": 5
}
