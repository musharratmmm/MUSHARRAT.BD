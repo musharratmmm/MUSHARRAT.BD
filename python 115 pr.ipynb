{
 "cells": [
  {
   "cell_type": "code",
   "execution_count": 3,
   "id": "1a5b3599-e77e-445e-b12f-c594aee748f5",
   "metadata": {},
   "outputs": [
    {
     "name": "stdin",
     "output_type": "stream",
     "text": [
      " 8\n"
     ]
    },
    {
     "name": "stdout",
     "output_type": "stream",
     "text": [
      "even\n"
     ]
    }
   ],
   "source": [
    "#no.1\n",
    "A=int(input())\n",
    "B= A % 2\n",
    "if B==0:\n",
    "    print('even')\n",
    "else:\n",
    "    print('odd')"
   ]
  },
  {
   "cell_type": "code",
   "execution_count": 15,
   "id": "3a46d175-0a61-4168-92e9-3747a9eda5bf",
   "metadata": {},
   "outputs": [
    {
     "name": "stdin",
     "output_type": "stream",
     "text": [
      " hello\n"
     ]
    },
    {
     "name": "stdout",
     "output_type": "stream",
     "text": [
      "olleh\n"
     ]
    }
   ],
   "source": [
    "#no.2\n",
    "def reverse_string(s):\n",
    "    return s[::-1]\n",
    "print(reverse_string(input()))"
   ]
  },
  {
   "cell_type": "code",
   "execution_count": 17,
   "id": "cc9d5878-603b-4eaf-afc8-aa6dd72a51e8",
   "metadata": {},
   "outputs": [
    {
     "name": "stdin",
     "output_type": "stream",
     "text": [
      " 5\n"
     ]
    },
    {
     "name": "stdout",
     "output_type": "stream",
     "text": [
      "<class 'str'>\n"
     ]
    }
   ],
   "source": [
    "#no.3\n",
    "X=str(input())\n",
    "Y=type(X)\n",
    "print(Y)"
   ]
  },
  {
   "cell_type": "code",
   "execution_count": 18,
   "id": "6dd0d5e1-e225-4204-a021-3413b854d306",
   "metadata": {},
   "outputs": [
    {
     "name": "stdin",
     "output_type": "stream",
     "text": [
      " 56\n"
     ]
    },
    {
     "name": "stdout",
     "output_type": "stream",
     "text": [
      "132.8\n"
     ]
    }
   ],
   "source": [
    "#no.4\n",
    "C=int(input())\n",
    "F=(9*C/5)+32\n",
    "print(F)\n"
   ]
  },
  {
   "cell_type": "code",
   "execution_count": 1,
   "id": "3f66d551-27f8-4bc8-ab34-f79d4e47710f",
   "metadata": {},
   "outputs": [
    {
     "name": "stdin",
     "output_type": "stream",
     "text": [
      " 45\n"
     ]
    },
    {
     "name": "stdout",
     "output_type": "stream",
     "text": [
      "<class 'str'>\n"
     ]
    }
   ],
   "source": [
    "#no.5\n",
    "X=input()\n",
    "Y=type(X)\n",
    "print(Y)"
   ]
  },
  {
   "cell_type": "code",
   "execution_count": 6,
   "id": "fe3e1df1-658e-43f7-a3ac-506ba5d41017",
   "metadata": {},
   "outputs": [
    {
     "name": "stdin",
     "output_type": "stream",
     "text": [
      " racecar \n"
     ]
    },
    {
     "name": "stdout",
     "output_type": "stream",
     "text": [
      "True\n"
     ]
    }
   ],
   "source": [
    "#no.6\n",
    "def palindrome(s: str):\n",
    "    s = s.replace(\" \",\"\").lower()\n",
    "    return s == s[::-1]\n",
    "print(palindrome(input())) \n"
   ]
  },
  {
   "cell_type": "code",
   "execution_count": 8,
   "id": "223befde-7573-4d41-b78f-550532d0bfb5",
   "metadata": {},
   "outputs": [
    {
     "name": "stdin",
     "output_type": "stream",
     "text": [
      " how are you\n"
     ]
    },
    {
     "name": "stdout",
     "output_type": "stream",
     "text": [
      "uoy era woh\n"
     ]
    }
   ],
   "source": [
    "#no.7\n",
    "def reverse_me(s:str):\n",
    "    return s[::-1]\n",
    "print(reverse_me(input()))"
   ]
  },
  {
   "cell_type": "code",
   "execution_count": 32,
   "id": "98d01a90-9682-40d6-8295-7386c47e69d1",
   "metadata": {},
   "outputs": [
    {
     "name": "stdin",
     "output_type": "stream",
     "text": [
      " Hi \n",
      " I'm Musharrat\n"
     ]
    },
    {
     "name": "stdout",
     "output_type": "stream",
     "text": [
      "('Hi ', \"I'm Musharrat\")\n"
     ]
    }
   ],
   "source": [
    "#no.8\n",
    "str_1=input()\n",
    "str_2=input()\n",
    "X=str_1,str_2\n",
    "print(X)"
   ]
  },
  {
   "cell_type": "code",
   "execution_count": 18,
   "id": "7ec90492-55ae-44ca-87a9-dde03e1d6208",
   "metadata": {},
   "outputs": [
    {
     "name": "stdout",
     "output_type": "stream",
     "text": [
      "<class 'int'>\n",
      "125\n",
      "<class 'float'>\n",
      "114.5\n",
      "<class 'str'>\n"
     ]
    }
   ],
   "source": [
    "#no.9\n",
    "a=100\n",
    "b=25\n",
    "c=10.5 \n",
    "print(type(a))\n",
    "summation=a+b\n",
    "print(summation)\n",
    "print(type(c))\n",
    "difference=summation-c\n",
    "print(difference)\n",
    "X=str(difference)\n",
    "print(type(X))"
   ]
  },
  {
   "cell_type": "code",
   "execution_count": 21,
   "id": "95b2fc3c-54bd-47c5-9ad0-a9420774949b",
   "metadata": {},
   "outputs": [
    {
     "name": "stdin",
     "output_type": "stream",
     "text": [
      " -23\n"
     ]
    },
    {
     "name": "stdout",
     "output_type": "stream",
     "text": [
      "It is negative\n"
     ]
    }
   ],
   "source": [
    "#no.10\n",
    "number=int(input())\n",
    "if number>=1:\n",
    "    print('It is positive')\n",
    "elif number==0:\n",
    "    print('It is zero')\n",
    "else:\n",
    "    print('It is negative')"
   ]
  },
  {
   "cell_type": "code",
   "execution_count": 29,
   "id": "b74e7dcf-09dd-467d-b748-17d00741ad90",
   "metadata": {},
   "outputs": [
    {
     "name": "stdin",
     "output_type": "stream",
     "text": [
      " 36\n",
      " 74\n",
      " 65\n"
     ]
    },
    {
     "name": "stdout",
     "output_type": "stream",
     "text": [
      "The largest no. is 74.0\n"
     ]
    }
   ],
   "source": [
    "#no.11\n",
    "def largest_number(a:float,b:float,c:float):\n",
    "    return max(a,b,c)\n",
    "num_1=float(input())\n",
    "num_2=float(input())\n",
    "num_3=float(input())\n",
    "print('The largest no. is',largest_number(num_1,num_2,num_3))"
   ]
  },
  {
   "cell_type": "code",
   "execution_count": 30,
   "id": "a7e77cd9-9dce-484a-8f88-2bfb9f203e20",
   "metadata": {},
   "outputs": [
    {
     "name": "stdin",
     "output_type": "stream",
     "text": [
      " 2024\n"
     ]
    },
    {
     "name": "stdout",
     "output_type": "stream",
     "text": [
      "It is a leap year\n"
     ]
    }
   ],
   "source": [
    "#no.12\n",
    "year=int(input())\n",
    "X=year%4\n",
    "if X == 0:\n",
    "    print('It is a leap year')\n",
    "else:\n",
    "    print('It is not a leap year')"
   ]
  },
  {
   "cell_type": "code",
   "execution_count": 31,
   "id": "1a241a7e-f10f-455d-ad32-9174fc3f1dd4",
   "metadata": {},
   "outputs": [
    {
     "name": "stdin",
     "output_type": "stream",
     "text": [
      " 89\n"
     ]
    },
    {
     "name": "stdout",
     "output_type": "stream",
     "text": [
      "A\n"
     ]
    }
   ],
   "source": [
    "#no.13\n",
    "X=int(input())\n",
    "if X >=90:\n",
    "    print('A+')\n",
    "elif X>=80:\n",
    "    print('A')\n",
    "elif X>=70:\n",
    "    print('B')\n",
    "elif X>=60:\n",
    "    print('C')\n",
    "else:\n",
    "    print('Fail')"
   ]
  },
  {
   "cell_type": "code",
   "execution_count": 40,
   "id": "9db2c161-8faa-4941-ae64-225d264a9243",
   "metadata": {},
   "outputs": [
    {
     "name": "stdin",
     "output_type": "stream",
     "text": [
      " B\n"
     ]
    },
    {
     "name": "stdout",
     "output_type": "stream",
     "text": [
      "It is a consonant.\n"
     ]
    }
   ],
   "source": [
    "#no.14\n",
    "def check_character(a: str):\n",
    "    a = a.lower()\n",
    "    if a in 'aeiou':\n",
    "        print(\"It is a vowel.\")\n",
    "    else:\n",
    "        print(\"It is a consonant.\")\n",
    "check_character(input())\n",
    "\n"
   ]
  },
  {
   "cell_type": "code",
   "execution_count": 2,
   "id": "65356913-881a-4d67-b36e-123e6c2ef132",
   "metadata": {},
   "outputs": [
    {
     "name": "stdin",
     "output_type": "stream",
     "text": [
      " 10\n"
     ]
    },
    {
     "name": "stdout",
     "output_type": "stream",
     "text": [
      "Good Morning\n"
     ]
    }
   ],
   "source": [
    "#no.15\n",
    "def greet_based_on_time(hour):\n",
    "    if 5 <= hour < 12:\n",
    "        print(\"Good Morning\")\n",
    "    elif 12 <= hour < 17:\n",
    "        print(\"Good Afternoon\")\n",
    "    elif 17 <= hour < 21:\n",
    "        print(\"Good Evening\")\n",
    "        \n",
    "    elif 21 <= hour < 24 or 0 <= hour < 5:\n",
    "        print(\"Good Night\")\n",
    "    else:\n",
    "        print(\"Inappropriate time\")\n",
    "greet_based_on_time(int(input()))\n"
   ]
  },
  {
   "cell_type": "code",
   "execution_count": 1,
   "id": "89cf1345-10c7-4985-865e-accc278e84a6",
   "metadata": {},
   "outputs": [
    {
     "name": "stdin",
     "output_type": "stream",
     "text": [
      " 23\n",
      " 14\n",
      " 16\n"
     ]
    },
    {
     "name": "stdout",
     "output_type": "stream",
     "text": [
      "Scalene triangle\n"
     ]
    }
   ],
   "source": [
    "#no.16\n",
    "def triangle_sides(a:float,b:float,c:float):\n",
    "    if a==b==c:\n",
    "        print(\"Equilateral triangle\")\n",
    "    elif a==b or b==c or c==a:\n",
    "        print(\"Iscosceles triangle\")\n",
    "    else:\n",
    "        print(\"Scalene triangle\")\n",
    "side_1=float(input())\n",
    "side_2=float(input())\n",
    "side_3=float(input())\n",
    "triangle_sides(side_1,side_2,side_3)"
   ]
  },
  {
   "cell_type": "code",
   "execution_count": 8,
   "id": "f5b16c14-d4e7-4463-8bb0-2d6b173a0f91",
   "metadata": {},
   "outputs": [
    {
     "name": "stdin",
     "output_type": "stream",
     "text": [
      " 1\n",
      " 2\n",
      " 1\n"
     ]
    },
    {
     "name": "stdout",
     "output_type": "stream",
     "text": [
      "-2.0\n",
      "-2.0\n"
     ]
    }
   ],
   "source": [
    "#no.17\n",
    "a=int(input())\n",
    "b=int(input())\n",
    "c=int(input())\n",
    "X_1=-b+(b**2-4*a*c)**0.5/2*a\n",
    "X_2=-b-(b**2-4*a*c)**0.5/2*a\n",
    "if X_1>=0 or X_1<=0:\n",
    "    print(X_1)\n",
    "elif X_2>=0 or X_2<=0:\n",
    "    prin"
   ]
  },
  {
   "cell_type": "code",
   "execution_count": 3,
   "id": "e2ce4cd9-2ffd-4233-bec0-6b89ec0957d5",
   "metadata": {},
   "outputs": [
    {
     "name": "stdin",
     "output_type": "stream",
     "text": [
      " 67\n"
     ]
    },
    {
     "name": "stdout",
     "output_type": "stream",
     "text": [
      "51-100\n"
     ]
    }
   ],
   "source": [
    "#no.18\n",
    "X=int(input())\n",
    "if X <=50:\n",
    "    print('0-50')\n",
    "elif X<=100:\n",
    "    print('51-100')\n",
    "elif X<=150:\n",
    "    print('101-150')\n",
    "else:\n",
    "    print('above 150')"
   ]
  },
  {
   "cell_type": "code",
   "execution_count": 2,
   "id": "3b480278-bf89-4534-9f17-31c27706c8d4",
   "metadata": {},
   "outputs": [
    {
     "name": "stdin",
     "output_type": "stream",
     "text": [
      " 56\n"
     ]
    },
    {
     "name": "stdout",
     "output_type": "stream",
     "text": [
      "1596\n"
     ]
    }
   ],
   "source": [
    "#no.19\n",
    "N = int(input()) \n",
    "sum = 0 \n",
    "for i in range(1, N + 1): \n",
    "    sum =sum+i \n",
    "print(sum) \n"
   ]
  },
  {
   "cell_type": "code",
   "execution_count": 12,
   "id": "d0ed5d8b-ef2c-48d8-ae1c-b159d3d34f52",
   "metadata": {},
   "outputs": [
    {
     "name": "stdin",
     "output_type": "stream",
     "text": [
      " 3\n"
     ]
    },
    {
     "name": "stdout",
     "output_type": "stream",
     "text": [
      "6\n"
     ]
    }
   ],
   "source": [
    "#no.20\n",
    "N = int(input())  \n",
    "i = 1  \n",
    "factorial = 1 \n",
    "while i <= N:\n",
    "    factorial =factorial* i  \n",
    "    i = i + 1  \n",
    "print(factorial) \n"
   ]
  },
  {
   "cell_type": "code",
   "execution_count": 14,
   "id": "8fc31b6c-bafb-46e7-bfcb-e9432e02cb75",
   "metadata": {},
   "outputs": [
    {
     "name": "stdin",
     "output_type": "stream",
     "text": [
      " 14\n"
     ]
    },
    {
     "name": "stdout",
     "output_type": "stream",
     "text": [
      "14 X 1 = 14\n",
      "14 X 2 = 28\n",
      "14 X 3 = 42\n",
      "14 X 4 = 56\n",
      "14 X 5 = 70\n",
      "14 X 6 = 84\n",
      "14 X 7 = 98\n",
      "14 X 8 = 112\n",
      "14 X 9 = 126\n",
      "14 X 10 = 140\n",
      "14 X 11 = 154\n",
      "14 X 12 = 168\n",
      "14 X 13 = 182\n"
     ]
    }
   ],
   "source": [
    "#no.21\n",
    "N=int(input())\n",
    "for i in range(1,N):\n",
    "    print(N,\"X\",i,\"=\",N*i)\n"
   ]
  },
  {
   "cell_type": "code",
   "execution_count": 18,
   "id": "623b04a2-a1dd-4271-839b-449b18ab47d4",
   "metadata": {},
   "outputs": [
    {
     "name": "stdin",
     "output_type": "stream",
     "text": [
      " 7890675\n"
     ]
    },
    {
     "name": "stdout",
     "output_type": "stream",
     "text": [
      "7\n"
     ]
    }
   ],
   "source": [
    "#no.22\n",
    "N = int(input())\n",
    "digit_count = 0\n",
    "while N > 0:\n",
    "    N = N // 10 \n",
    "    digit_count=digit_count+ 1  \n",
    "print(digit_count)\n"
   ]
  },
  {
   "cell_type": "code",
   "execution_count": 2,
   "id": "1445ca5c-cb70-45e4-9a94-a0709200725f",
   "metadata": {},
   "outputs": [
    {
     "name": "stdin",
     "output_type": "stream",
     "text": [
      " 7\n"
     ]
    },
    {
     "name": "stdout",
     "output_type": "stream",
     "text": [
      "0\n",
      "1\n",
      "1\n",
      "2\n",
      "3\n",
      "5\n",
      "8\n",
      "13\n"
     ]
    }
   ],
   "source": [
    "#no.23\n",
    "n=int(input())\n",
    "a= 0\n",
    "b=1\n",
    "count=0\n",
    "while count<=n:\n",
    "    print(a,end='')\n",
    "    nth=a+b\n",
    "    a=b\n",
    "    b=nth\n",
    "    count=count+1\n",
    "    print()"
   ]
  },
  {
   "cell_type": "code",
   "execution_count": 33,
   "id": "79fbf1b8-24cb-457b-b16a-018159a7dca6",
   "metadata": {},
   "outputs": [
    {
     "name": "stdin",
     "output_type": "stream",
     "text": [
      " 6\n"
     ]
    },
    {
     "name": "stdout",
     "output_type": "stream",
     "text": [
      "sum= 2\n",
      "sum= 6\n",
      "sum= 12\n"
     ]
    }
   ],
   "source": [
    "#no.24\n",
    "n=int(input())\n",
    "sum=0\n",
    "i=2\n",
    "while i<=n:\n",
    "    sum=sum+i\n",
    "    i=i+2\n",
    "    print('sum=',sum)"
   ]
  },
  {
   "cell_type": "code",
   "execution_count": 38,
   "id": "9695f01f-00f7-417b-a444-ec011b31a166",
   "metadata": {},
   "outputs": [
    {
     "name": "stdin",
     "output_type": "stream",
     "text": [
      " 8\n"
     ]
    },
    {
     "name": "stdout",
     "output_type": "stream",
     "text": [
      "*\n",
      "**\n",
      "***\n",
      "****\n",
      "*****\n",
      "******\n",
      "*******\n",
      "********\n"
     ]
    }
   ],
   "source": [
    "#no.25\n",
    "n=int(input())\n",
    "for i in range(1, n + 1):\n",
    "    for j in range(i):\n",
    "        print('*', end='') \n",
    "    print()  \n"
   ]
  },
  {
   "cell_type": "code",
   "execution_count": 2,
   "id": "4467a73c-25b0-44dd-9505-c6423abc53c6",
   "metadata": {},
   "outputs": [
    {
     "name": "stdin",
     "output_type": "stream",
     "text": [
      " 5\n"
     ]
    },
    {
     "name": "stdout",
     "output_type": "stream",
     "text": [
      "prime number \n",
      "prime number \n",
      "prime number \n"
     ]
    }
   ],
   "source": [
    "#no.26\n",
    "N=int(input())\n",
    "if N>=1: \n",
    "    for i in range (2,N):\n",
    "        if (N % i)==0:\n",
    "            print('not a prime number ')\n",
    "        else:\n",
    "            print('prime number ')"
   ]
  },
  {
   "cell_type": "code",
   "execution_count": 3,
   "id": "d42027c4-46ed-42cf-8776-8d1d5216b41b",
   "metadata": {},
   "outputs": [
    {
     "name": "stdout",
     "output_type": "stream",
     "text": [
      "Sum: 150\n",
      "Average: 30.0\n",
      "Maximum: 50\n",
      "Minimum: 10\n"
     ]
    }
   ],
   "source": [
    "#no.27\n",
    "numbers = [10, 20, 30, 40, 50]\n",
    "total_sum = 0\n",
    "max_value = numbers[0]\n",
    "min_value = numbers[0]\n",
    "for num in numbers:\n",
    "    total_sum =total_sum+ num\n",
    "    if num > max_value:\n",
    "        max_value = num\n",
    "    if num < min_value:\n",
    "        min_value = num\n",
    "    average = total_sum / len(numbers)\n",
    "print(\"Sum:\", total_sum)\n",
    "print(\"Average:\", average)\n",
    "print(\"Maximum:\", max_value)\n",
    "print(\"Minimum:\", min_value)\n"
   ]
  },
  {
   "cell_type": "code",
   "execution_count": 4,
   "id": "1ddc9a0b-c349-4be9-8b19-ef8220e2b671",
   "metadata": {},
   "outputs": [
    {
     "name": "stdin",
     "output_type": "stream",
     "text": [
      " hello \n"
     ]
    },
    {
     "data": {
      "text/plain": [
       "' olleh'"
      ]
     },
     "execution_count": 4,
     "metadata": {},
     "output_type": "execute_result"
    }
   ],
   "source": [
    "#no.28\n",
    "def reverse_s(s):\n",
    "    return s[::-1]\n",
    "reverse_s(input())"
   ]
  },
  {
   "cell_type": "code",
   "execution_count": 11,
   "id": "de690066-7c78-41a6-b1b7-cc27b583ed91",
   "metadata": {},
   "outputs": [
    {
     "name": "stdout",
     "output_type": "stream",
     "text": [
      "1\n",
      "2\n",
      "3\n",
      "4\n",
      "5\n",
      "6\n",
      "7\n",
      "8\n",
      "9\n",
      "10\n",
      "10 x 1 = 10\n",
      "\n",
      "10 x 2 = 20\n",
      "\n",
      "10 x 3 = 30\n",
      "\n",
      "10 x 4 = 40\n",
      "\n",
      "10 x 5 = 50\n",
      "\n",
      "10 x 6 = 60\n",
      "\n",
      "10 x 7 = 70\n",
      "\n",
      "10 x 8 = 80\n",
      "\n",
      "10 x 9 = 90\n",
      "\n",
      "10 x 10 = 100\n",
      "\n"
     ]
    }
   ],
   "source": [
    "#no.29\n",
    "for i in range(1, 11):\n",
    "    print(i)\n",
    "for m in range(1, 11):\n",
    "    print(i, 'x', m,'=', i*m)\n",
    "    print()                    "
   ]
  },
  {
   "cell_type": "code",
   "execution_count": 16,
   "id": "6e8ac3dd-03a2-4d86-94f2-c31c8f76296d",
   "metadata": {},
   "outputs": [
    {
     "name": "stdin",
     "output_type": "stream",
     "text": [
      " 5\n"
     ]
    },
    {
     "name": "stdout",
     "output_type": "stream",
     "text": [
      "*\n",
      "**\n",
      "***\n",
      "****\n",
      "*****\n"
     ]
    }
   ],
   "source": [
    "#no.30\n",
    "n=int(input())\n",
    "for i in range(1, n + 1):\n",
    "    for j in range(i):\n",
    "        print('*', end='') \n",
    "    print()  "
   ]
  },
  {
   "cell_type": "code",
   "execution_count": 19,
   "id": "72d2c8ef-0c79-4e79-be47-215744db51d6",
   "metadata": {},
   "outputs": [
    {
     "name": "stdout",
     "output_type": "stream",
     "text": [
      "Resultant Matrix:\n",
      "[30, 24, 18]\n",
      "[84, 69, 54]\n",
      "[138, 114, 90]\n"
     ]
    }
   ],
   "source": [
    "#no.31\n",
    "def matrix_multiply(A, B):\n",
    "   \n",
    "    rows_A = len(A)\n",
    "    cols_A = len(A[0])\n",
    "    rows_B = len(B)\n",
    "    cols_B = len(B[0])\n",
    "    \n",
    "    \n",
    "    if cols_A != rows_B:\n",
    "        raise ValueError(\"Cannot multiply matrices: incompatible dimensions.\")\n",
    "    \n",
    "   \n",
    "    result = [[0 for _ in range(cols_B)] for _ in range(rows_A)]\n",
    "    \n",
    "   \n",
    "    for i in range(rows_A):\n",
    "        for j in range(cols_B):\n",
    "            for k in range(cols_A):  # or rows_B, since cols_A == rows_B\n",
    "                result[i][j] += A[i][k] * B[k][j]\n",
    "    \n",
    "    return result\n",
    "\n",
    "\n",
    "matrix_A = [\n",
    "    [1, 2, 3],\n",
    "    [4, 5, 6],\n",
    "    [7, 8, 9]\n",
    "]\n",
    "\n",
    "matrix_B = [\n",
    "    [9, 8, 7],\n",
    "    [6, 5, 4],\n",
    "    [3, 2, 1]\n",
    "]\n",
    "\n",
    "try:\n",
    "    result_matrix = matrix_multiply(matrix_A, matrix_B)\n",
    "    print(\"Resultant Matrix:\")\n",
    "    for row in result_matrix:\n",
    "        print(row)\n",
    "except ValueError as e:\n",
    "    print(e)\n"
   ]
  },
  {
   "cell_type": "code",
   "execution_count": 20,
   "id": "0c331f30-f48c-4c8a-a5a1-6b57319f6f77",
   "metadata": {},
   "outputs": [
    {
     "name": "stdout",
     "output_type": "stream",
     "text": [
      "X O X O X O X O \n",
      "O X O X O X O X \n",
      "X O X O X O X O \n",
      "O X O X O X O X \n",
      "X O X O X O X O \n",
      "O X O X O X O X \n",
      "X O X O X O X O \n",
      "O X O X O X O X \n"
     ]
    }
   ],
   "source": [
    "#no.32\n",
    "    size = 8 \n",
    "    for i in range(size):\n",
    "        for j in range(size):\n",
    "            \n",
    "            if (i + j) % 2 == 0:\n",
    "                print(\"X\", end=\" \")\n",
    "            else:\n",
    "                print(\"O\", end=\" \")\n",
    "        print() \n",
    "print_chessboard()\n"
   ]
  },
  {
   "cell_type": "code",
   "execution_count": 21,
   "id": "3b4fb3c8-a575-443e-8299-7b77b247068a",
   "metadata": {},
   "outputs": [
    {
     "name": "stdout",
     "output_type": "stream",
     "text": [
      "1\n",
      "22\n",
      "333\n",
      "4444\n",
      "55555\n"
     ]
    }
   ],
   "source": [
    "#no.33\n",
    "def print_number_pyramid():\n",
    "    height = 5  \n",
    "    for i in range(1, height + 1):\n",
    "        print(str(i) * i)  \n",
    "print_number_pyramid()\n"
   ]
  },
  {
   "cell_type": "code",
   "execution_count": 22,
   "id": "ff8c580e-7d23-49d4-bc3a-9711cbef315a",
   "metadata": {},
   "outputs": [
    {
     "name": "stdout",
     "output_type": "stream",
     "text": [
      "The sum of all elements in the list is: 15\n"
     ]
    }
   ],
   "source": [
    "#no.34\n",
    "def sum_of_list(numbers):\n",
    "    total = 0\n",
    "    for num in numbers:\n",
    "        total += num\n",
    "    return total\n",
    "numbers = [1, 2, 3, 4, 5]\n",
    "result = sum_of_list(numbers)\n",
    "print(f\"The sum of all elements in the list is: {result}\")\n"
   ]
  },
  {
   "cell_type": "code",
   "execution_count": 23,
   "id": "b45b72a2-af18-4bdc-bf42-49bfbccfde6d",
   "metadata": {},
   "outputs": [
    {
     "name": "stdout",
     "output_type": "stream",
     "text": [
      "The average of all elements in the list is: 30.0\n"
     ]
    }
   ],
   "source": [
    "#no.35\n",
    "def calculate_average(numbers):\n",
    "    if not numbers:  \n",
    "        return 0\n",
    "    total = sum(numbers)\n",
    "    count = len(numbers)\n",
    "    return total / count\n",
    "\n",
    "numbers = [10, 20, 30, 40, 50]\n",
    "average = calculate_average(numbers)\n",
    "print(f\"The average of all elements in the list is: {average}\")\n"
   ]
  },
  {
   "cell_type": "code",
   "execution_count": 24,
   "id": "28880ab3-ca40-4ac9-843d-72e41d27377f",
   "metadata": {},
   "outputs": [
    {
     "name": "stdout",
     "output_type": "stream",
     "text": [
      "The maximum value in the list is: 50\n",
      "The minimum value in the list is: 10\n"
     ]
    }
   ],
   "source": [
    "#no.36\n",
    "def find_max_min(numbers):\n",
    "    if not numbers: \n",
    "        return None, None  \n",
    "    max_val = max(numbers)\n",
    "    min_val = min(numbers)\n",
    "    return max_val, min_val\n",
    "numbers = [10, 20, 30, 40, 50]\n",
    "max_val, min_val = find_max_min(numbers)\n",
    "print(f\"The maximum value in the list is: {max_val}\")\n",
    "print(f\"The minimum value in the list is: {min_val}\")\n"
   ]
  },
  {
   "cell_type": "code",
   "execution_count": 25,
   "id": "8b805c14-a66a-417c-be3d-0e3c49a90606",
   "metadata": {},
   "outputs": [
    {
     "name": "stdout",
     "output_type": "stream",
     "text": [
      "Original list: [34, 1, 23, 67, 2, 89, 21]\n",
      "Sorted list: [1, 2, 21, 23, 34, 67, 89]\n"
     ]
    }
   ],
   "source": [
    "#no.37\n",
    "def sort_list(numbers):\n",
    "    return sorted(numbers)\n",
    "numbers = [34, 1, 23, 67, 2, 89, 21]\n",
    "sorted_numbers = sort_list(numbers)\n",
    "print(f\"Original list: {numbers}\")\n",
    "print(f\"Sorted list: {sorted_numbers}\")"
   ]
  },
  {
   "cell_type": "code",
   "execution_count": 28,
   "id": "0e0e5290-f693-4b4e-ae2f-5708ecb7379e",
   "metadata": {},
   "outputs": [
    {
     "name": "stdout",
     "output_type": "stream",
     "text": [
      "Original list: [10, 15, 20, 25, 30, 35, 40]\n",
      "Even numbers: [10, 20, 30, 40]\n"
     ]
    }
   ],
   "source": [
    "#no.38\n",
    "def get_even_numbers(numbers):\n",
    "    return [num for num in numbers if num % 2 == 0]\n",
    "numbers = [10, 15, 20, 25, 30, 35, 40]\n",
    "even_numbers = get_even_numbers(numbers)\n",
    "print(f\"Original list: {numbers}\")\n",
    "print(f\"Even numbers: {even_numbers}\")\n"
   ]
  },
  {
   "cell_type": "code",
   "execution_count": 30,
   "id": "b909df17-b4ba-468f-83f5-35ad6d1357fa",
   "metadata": {},
   "outputs": [
    {
     "name": "stdout",
     "output_type": "stream",
     "text": [
      "Original list: [10, 20, 30, 40, 50]\n",
      "Reversed list: [10, 20, 30, 40]\n"
     ]
    }
   ],
   "source": [
    "#no.39\n",
    "def reverse_list(numbers):\n",
    "    reversed_list = []\n",
    "    for i in range(len(numbers)-1):\n",
    "        reversed_list.append(numbers[i])\n",
    "    return reversed_list\n",
    "numbers = [10, 20, 30, 40, 50]\n",
    "reversed_numbers = reverse_list(numbers)\n",
    "print(f\"Original list: {numbers}\")\n",
    "print(f\"Reversed list: {reversed_numbers}\")\n"
   ]
  },
  {
   "cell_type": "code",
   "execution_count": null,
   "id": "ef1c81a3-cab5-4275-aff0-0b2078f955c1",
   "metadata": {},
   "outputs": [],
   "source": [
    "#no.40\n",
    "def common_elements_set(list1, list2):\n",
    "    return list(set(list1) & set(list2))\n",
    "list1 = [10, 20, 30, 40, 50]\n",
    "list2 = [30, 40, 60, 70, 80]\n",
    "common_list = common_elements_set(list1, list2)\n",
    "print(f\"Common elements: {common_list}\")\n"
   ]
  },
  {
   "cell_type": "code",
   "execution_count": 36,
   "id": "ee76ab74-1226-4bb1-a471-1d098bc6bb35",
   "metadata": {},
   "outputs": [
    {
     "name": "stdout",
     "output_type": "stream",
     "text": [
      "The element 2 occurs 3 times in the list.\n"
     ]
    }
   ],
   "source": [
    "# no.41\n",
    "def list(numbers, target):\n",
    "    count = 0\n",
    "    for num in numbers:\n",
    "        if num == target:\n",
    "            count += 1\n",
    "    return count\n",
    "numbers = [1, 2, 3, 4, 2, 2, 5]\n",
    "target = 2\n",
    "count =list(numbers, target)\n",
    "print(f\"The element {target} occurs {count} times in the list.\")\n"
   ]
  },
  {
   "cell_type": "code",
   "execution_count": 37,
   "id": "8860f484-f140-4f75-9c55-bb02bf28d8ba",
   "metadata": {},
   "outputs": [
    {
     "name": "stdout",
     "output_type": "stream",
     "text": [
      "Original list: [1, 2, 2, 3, 4, 4, 5, 1]\n",
      "List after removing duplicates: [1, 2, 3, 4, 5]\n"
     ]
    }
   ],
   "source": [
    "#no.42\n",
    "def remove_duplicates(numbers):\n",
    "    seen = set()\n",
    "    result = []\n",
    "    for num in numbers:\n",
    "        if num not in seen:\n",
    "            result.append(num)\n",
    "            seen.add(num)\n",
    "    return result\n",
    "numbers = [1, 2, 2, 3, 4, 4, 5, 1]\n",
    "unique_numbers = remove_duplicates(numbers)\n",
    "print(f\"Original list: {numbers}\")\n",
    "print(f\"List after removing duplicates: {unique_numbers}\")\n"
   ]
  },
  {
   "cell_type": "code",
   "execution_count": 38,
   "id": "8c9acb05-b1df-4f71-bbbe-24c43cf278d5",
   "metadata": {},
   "outputs": [
    {
     "name": "stdout",
     "output_type": "stream",
     "text": [
      "Original list: [1, 2, 3, 4, 5]\n",
      "Squared list: [1, 4, 9, 16, 25]\n"
     ]
    }
   ],
   "source": [
    "#no.43\n",
    "def square_elements(numbers):\n",
    "    return [num ** 2 for num in numbers]\n",
    "numbers = [1, 2, 3, 4, 5]\n",
    "squared_numbers = square_elements(numbers)\n",
    "print(f\"Original list: {numbers}\")\n",
    "print(f\"Squared list: {squared_numbers}\")\n"
   ]
  },
  {
   "cell_type": "code",
   "execution_count": 39,
   "id": "e268b0fe-bc34-42be-b689-b5ca1df12e45",
   "metadata": {},
   "outputs": [
    {
     "name": "stdout",
     "output_type": "stream",
     "text": [
      "Matrix 1:\n",
      "[1, 2, 3]\n",
      "[4, 5, 6]\n",
      "[7, 8, 9]\n",
      "\n",
      "Matrix 2:\n",
      "[9, 8, 7]\n",
      "[6, 5, 4]\n",
      "[3, 2, 1]\n",
      "\n",
      "Resultant Matrix (Sum):\n",
      "[10, 10, 10]\n",
      "[10, 10, 10]\n",
      "[10, 10, 10]\n"
     ]
    }
   ],
   "source": [
    "#no.44\n",
    "def add_matrices(matrix1, matrix2):\n",
    "   \n",
    "    if len(matrix1) != len(matrix2) or len(matrix1[0]) != len(matrix2[0]):\n",
    "        raise ValueError(\"Matrices must have the same dimensions.\")\n",
    "    result = [\n",
    "        [matrix1[i][j] + matrix2[i][j] for j in range(len(matrix1[0]))]\n",
    "        for i in range(len(matrix1))\n",
    "    ]\n",
    "    return result\n",
    "matrix1 = [\n",
    "    [1, 2, 3],\n",
    "    [4, 5, 6],\n",
    "    [7, 8, 9]\n",
    "]\n",
    "\n",
    "matrix2 = [\n",
    "    [9, 8, 7],\n",
    "    [6, 5, 4],\n",
    "    [3, 2, 1]\n",
    "]\n",
    "result_matrix = add_matrices(matrix1, matrix2)\n",
    "print(\"Matrix 1:\")\n",
    "for row in matrix1:\n",
    "    print(row)\n",
    "print(\"\\nMatrix 2:\")\n",
    "for row in matrix2:\n",
    "    print(row)\n",
    "print(\"\\nResultant Matrix (Sum):\")\n",
    "for row in result_matrix:\n",
    "    print(row)\n"
   ]
  },
  {
   "cell_type": "code",
   "execution_count": 1,
   "id": "6963fc65-146b-4cef-9352-bb57d1f26b93",
   "metadata": {},
   "outputs": [
    {
     "name": "stdout",
     "output_type": "stream",
     "text": [
      "Flattened list: [1, 2, 3, 4, 5, 6, 7, 8]\n"
     ]
    }
   ],
   "source": [
    "#no.45\n",
    "def flatten_nested_list(nested_list):\n",
    "    \"\"\"\n",
    "    Flattens a given nested list into a single-dimensional list.\n",
    "    Args:\n",
    "        nested_list (list): A nested list to flatten.\n",
    "    Returns:\n",
    "        list: A single-dimensional flattened list.\n",
    "    \"\"\"\n",
    "    flattened_list = []\n",
    "    def flatten(sublist):\n",
    "        for item in sublist:\n",
    "            if isinstance(item, list):\n",
    "                flatten(item) \n",
    "            else:\n",
    "                flattened_list.append(item) \n",
    "    flatten(nested_list)\n",
    "    return flattened_list\n",
    "nested_list = [1, [2, [3, 4], 5], [6, 7], 8]\n",
    "flattened = flatten_nested_list(nested_list)\n",
    "print(\"Flattened list:\", flattened)\n"
   ]
  },
  {
   "cell_type": "code",
   "execution_count": 3,
   "id": "53e76420-fb4c-404d-968c-e15f0d5f5efc",
   "metadata": {},
   "outputs": [
    {
     "name": "stdout",
     "output_type": "stream",
     "text": [
      "Counter({2: 3, 3: 3, 1: 2, 4: 1, 5: 1, 6: 1, 7: 1, 8: 1})\n"
     ]
    }
   ],
   "source": [
    "#no.46\n",
    "from collections import Counter\n",
    "\n",
    "def flatten(nested_list):\n",
    "    \"\"\"Flatten a deeply nested list.\"\"\"\n",
    "    for item in nested_list:\n",
    "        if isinstance(item, list):\n",
    "            yield from flatten(item)\n",
    "        else:\n",
    "            yield item\n",
    "\n",
    "def count_frequencies(nested_list):\n",
    "    \"\"\"\n",
    "    Counts the frequency of each element in a nested list.\n",
    "    \"\"\"\n",
    "    return Counter(flatten(nested_list))\n",
    "nested_list = [1, [2, [3, 4, 2], 5], [6, 7, 2], 8, [1, [3, 3]]]\n",
    "frequencies = count_frequencies(nested_list)\n",
    "print( frequencies)\n"
   ]
  },
  {
   "cell_type": "code",
   "execution_count": 4,
   "id": "6e94de15-0ce3-4882-86d6-3ee1720d2feb",
   "metadata": {},
   "outputs": [
    {
     "name": "stdout",
     "output_type": "stream",
     "text": [
      "Original Matrix:\n",
      "[1, 2, 3]\n",
      "[4, 5, 6]\n",
      "[7, 8, 9]\n",
      "\n",
      "Transposed Matrix:\n",
      "[1, 4, 7]\n",
      "[2, 5, 8]\n",
      "[3, 6, 9]\n"
     ]
    }
   ],
   "source": [
    "#no.47\n",
    "def transpose_matrix(matrix):\n",
    "    \"\"\"\n",
    "    Transposes a given matrix represented as a nested list.\n",
    "\n",
    "    Args:\n",
    "        matrix (list of list of int/float): The input matrix.\n",
    "\n",
    "    Returns:\n",
    "        list of list of int/float: The transposed matrix.\n",
    "    \"\"\"\n",
    "    return [[row[i] for row in matrix] for i in range(len(matrix[0]))]\n",
    "matrix = [\n",
    "    [1, 2, 3],\n",
    "    [4, 5, 6],\n",
    "    [7, 8, 9]\n",
    "]\n",
    "\n",
    "transposed = transpose_matrix(matrix)\n",
    "print(\"Original Matrix:\")\n",
    "for row in matrix:\n",
    "    print(row)\n",
    "\n",
    "print(\"\\nTransposed Matrix:\")\n",
    "for row in transposed:\n",
    "    print(row)\n"
   ]
  },
  {
   "cell_type": "code",
   "execution_count": 5,
   "id": "c241d38d-59df-44ed-9d75-9627ab2eef85",
   "metadata": {},
   "outputs": [
    {
     "name": "stdout",
     "output_type": "stream",
     "text": [
      "Concatenated List: [1, 2, 3, 4, 5, 6, 7, 8, 9]\n"
     ]
    }
   ],
   "source": [
    "#no.48\n",
    "def concatenate_sublists(nested_list):\n",
    "    \"\"\"\n",
    "    Concatenates all sublists in a nested list into a single flat list.\n",
    "\n",
    "    Args:\n",
    "        nested_list (list): A list of nested sublists.\n",
    "\n",
    "    Returns:\n",
    "        list: A single flat list with all elements from the sublists.\n",
    "    \"\"\"\n",
    "    return [item for sublist in nested_list for item in sublist]\n",
    "nested_list = [[1, 2, 3], [4, 5], [6], [7, 8, 9]]\n",
    "concatenated_list = concatenate_sublists(nested_list)\n",
    "print(\"Concatenated List:\", concatenated_list)\n"
   ]
  },
  {
   "cell_type": "code",
   "execution_count": 6,
   "id": "31af1e20-3976-4f56-b626-4a5ac9754bf6",
   "metadata": {},
   "outputs": [
    {
     "name": "stdout",
     "output_type": "stream",
     "text": [
      "Concatenated Tuple: (1, 2, 3, 4, 5, 6)\n"
     ]
    }
   ],
   "source": [
    "#no.49\n",
    "def concatenate_tuples(tuple1, tuple2):\n",
    "    \"\"\"\n",
    "    Concatenates two tuples and returns a new tuple.\n",
    "\n",
    "    Args:\n",
    "        tuple1 (tuple): The first tuple.\n",
    "        tuple2 (tuple): The second tuple.\n",
    "\n",
    "    Returns:\n",
    "        tuple: A new tuple that is the concatenation of tuple1 and tuple2.\n",
    "    \"\"\"\n",
    "    return tuple1 + tuple2\n",
    "tuple1 = (1, 2, 3)\n",
    "tuple2 = (4, 5, 6)\n",
    "concatenated_tuple = concatenate_tuples(tuple1, tuple2)\n",
    "print(\"Concatenated Tuple:\", concatenated_tuple)\n"
   ]
  },
  {
   "cell_type": "code",
   "execution_count": 7,
   "id": "ebd10b75-29eb-48a4-9936-12eee8cfdb8a",
   "metadata": {},
   "outputs": [
    {
     "name": "stdout",
     "output_type": "stream",
     "text": [
      "X= 13\n",
      "Y= 16\n",
      "Z= 14\n"
     ]
    }
   ],
   "source": [
    "#no.50\n",
    "coordinates= 13,16, 14\n",
    "x,y,z= coordinates\n",
    "print('X=',x)\n",
    "print('Y=',y)\n",
    "print('Z=',z)"
   ]
  },
  {
   "cell_type": "code",
   "execution_count": 1,
   "id": "e235205b-e19e-485a-ae6b-a30a70a1b84a",
   "metadata": {},
   "outputs": [
    {
     "name": "stdout",
     "output_type": "stream",
     "text": [
      "(1, 2, 3, 5, 7, 8)\n"
     ]
    }
   ],
   "source": [
    "#no.51\n",
    "tuple_of_integers = (5, 3, 8, 1, 2, 7)\n",
    "sorted_tuple = tuple(sorted(tuple_of_integers))\n",
    "print(sorted_tuple)\n"
   ]
  },
  {
   "cell_type": "code",
   "execution_count": 2,
   "id": "932d5b26-75cc-473c-8225-57c5d2a1d906",
   "metadata": {},
   "outputs": [
    {
     "name": "stdout",
     "output_type": "stream",
     "text": [
      "4\n"
     ]
    }
   ],
   "source": [
    "#no.52\n",
    "tuple_elements = (1, 2, 3, 2, 4, 2, 5, 3, 2)\n",
    "element_to_count = 2\n",
    "frequency = tuple_elements.count(element_to_count)\n",
    "print(frequency)\n"
   ]
  },
  {
   "cell_type": "code",
   "execution_count": 4,
   "id": "c3964cb0-4a3c-46ca-97d6-b44c62e48a2a",
   "metadata": {},
   "outputs": [
    {
     "name": "stdout",
     "output_type": "stream",
     "text": [
      "[1, 2, 3, 4, 5]\n"
     ]
    }
   ],
   "source": [
    "#no.53\n",
    "tuple= (1, 2, 3, 4, 5)\n",
    "list = list(tuple)\n",
    "print(list)\n"
   ]
  },
  {
   "cell_type": "code",
   "execution_count": 10,
   "id": "b35ece28-e52e-4496-94a3-de84f736d7ec",
   "metadata": {},
   "outputs": [
    {
     "name": "stdout",
     "output_type": "stream",
     "text": [
      "(5, 4, 3, 2, 1)\n"
     ]
    }
   ],
   "source": [
    "#no.54\n",
    "tuple_example = (1, 2, 3, 4, 5)\n",
    "reversed_tuple = ()\n",
    "for i in range(len(tuple_example) - 1,-1,-1):\n",
    "    reversed_tuple =reversed_tuple + (tuple_example[i],)\n",
    "print(reversed_tuple)"
   ]
  },
  {
   "cell_type": "code",
   "execution_count": 8,
   "id": "aec9df32-917a-4444-b82d-7d2ccb9d07f8",
   "metadata": {},
   "outputs": [
    {
     "name": "stdout",
     "output_type": "stream",
     "text": [
      "Extracted slice: (40, 50, 60)\n"
     ]
    }
   ],
   "source": [
    "#no.55\n",
    "tuple_example = (10, 20, 30, 40, 50, 60, 70)\n",
    "slice_of_tuple = tuple_example[3:6]  \n",
    "print(\"Extracted slice:\", slice_of_tuple)"
   ]
  },
  {
   "cell_type": "code",
   "execution_count": 1,
   "id": "83e9430a-0807-4c09-83e6-4f97a6144cac",
   "metadata": {},
   "outputs": [
    {
     "name": "stdout",
     "output_type": "stream",
     "text": [
      "(6, 6, 6, 6, 6)\n",
      "(-4, -2, 0, 2, 4)\n",
      "(5, 8, 9, 8, 5)\n"
     ]
    }
   ],
   "source": [
    "#no.56\n",
    "tuple1 = (1, 2, 3, 4, 5)\n",
    "tuple2 = (5, 4, 3, 2, 1)\n",
    "addition_result = []\n",
    "subtraction_result = []\n",
    "multiplication_result = []\n",
    "for i in range(len(tuple1)):\n",
    "    addition_result.append(tuple1[i] + tuple2[i])\n",
    "    subtraction_result.append(tuple1[i] - tuple2[i])\n",
    "    multiplication_result.append(tuple1[i] * tuple2[i])\n",
    "addition_result = tuple(addition_result)\n",
    "subtraction_result = tuple(subtraction_result)\n",
    "multiplication_result = tuple(multiplication_result)\n",
    "print(addition_result)\n",
    "print(subtraction_result)\n",
    "print(multiplication_result)"
   ]
  },
  {
   "cell_type": "code",
   "execution_count": 2,
   "id": "8d4016af-f047-45a9-b8aa-b852cfab91ab",
   "metadata": {},
   "outputs": [
    {
     "name": "stdin",
     "output_type": "stream",
     "text": [
      "Enter an element to check if it exists in the tuple:  o\n"
     ]
    },
    {
     "name": "stdout",
     "output_type": "stream",
     "text": [
      "o does not exist.\n"
     ]
    }
   ],
   "source": [
    "#no.57\n",
    "my_tuple = (1, 2, 3, 4, 5, 'apple', 'banana')\n",
    "element = input(\"Enter an element to check if it exists in the tuple: \")\n",
    "if element in my_tuple:\n",
    "    print(element,'exists')\n",
    "else:\n",
    "    print(element,'does not exist.')\n"
   ]
  },
  {
   "cell_type": "code",
   "execution_count": 3,
   "id": "b613fcfb-4cc4-474d-9fa1-555ab05c1541",
   "metadata": {},
   "outputs": [
    {
     "name": "stdout",
     "output_type": "stream",
     "text": [
      "(10, 'Hello', 3.14)\n"
     ]
    }
   ],
   "source": [
    "#no.58\n",
    "var1 = 10\n",
    "var2 = 'Hello'\n",
    "var3 = 3.14\n",
    "packed_tuple = (var1, var2, var3)\n",
    "print(packed_tuple)\n"
   ]
  },
  {
   "cell_type": "code",
   "execution_count": 5,
   "id": "7b686455-9dcb-4acf-8a1a-eb435560a3dc",
   "metadata": {},
   "outputs": [
    {
     "name": "stdout",
     "output_type": "stream",
     "text": [
      "First element from the third sublist: 10.5\n",
      "Second element from the first sublist: 2\n",
      "Third element from the second sublist: cherry\n"
     ]
    }
   ],
   "source": [
    "#no.59\n",
    "nested_list = [[1, 2, 3], ['apple', 'banana', 'cherry'], [10.5, 20.6, 30.7]]\n",
    "print(\"First element from the third sublist:\", nested_list[2][0])\n",
    "print(\"Second element from the first sublist:\", nested_list[0][1])\n",
    "print(\"Third element from the second sublist:\", nested_list[1][2])"
   ]
  },
  {
   "cell_type": "code",
   "execution_count": 6,
   "id": "7fe1eeaa-124d-4e26-bcb6-f63c1a6ad599",
   "metadata": {},
   "outputs": [
    {
     "name": "stdout",
     "output_type": "stream",
     "text": [
      "[1, 2, 3, 'apple', 'banana', 10.5, 20.6, 7, 8]\n"
     ]
    }
   ],
   "source": [
    "#no.60\n",
    "nested_list = [[1, 2, 3], ['apple', 'banana'], [10.5, 20.6], [7, 8]]\n",
    "flattened_list = [item for sublist in nested_list for item in sublist]\n",
    "print(flattened_list) "
   ]
  },
  {
   "cell_type": "code",
   "execution_count": 8,
   "id": "940122c0-9d22-4653-9d4d-2eb288c1394b",
   "metadata": {},
   "outputs": [
    {
     "name": "stdout",
     "output_type": "stream",
     "text": [
      "[[4, 5], [10, 11], [1, 2, 3], [6, 7, 8, 9]]\n"
     ]
    }
   ],
   "source": [
    "#no.61\n",
    "nested_list = [[1, 2, 3], [4, 5], [6, 7, 8, 9], [10, 11]]\n",
    "sorted_list = sorted(nested_list, key=len)\n",
    "print(sorted_list)\n"
   ]
  },
  {
   "cell_type": "code",
   "execution_count": 9,
   "id": "98acb3ec-19d1-480b-9f12-2aee79790c34",
   "metadata": {},
   "outputs": [
    {
     "name": "stdout",
     "output_type": "stream",
     "text": [
      "x-coordinates: [1, 3, 5, 7]\n",
      "y-coordinates: [2, 4, 6, 8]\n"
     ]
    }
   ],
   "source": [
    "#no.62\n",
    "nested_list = [(1, 2), (3, 4), (5, 6), (7, 8)]\n",
    "x_coordinates = [x for x, y in nested_list]\n",
    "y_coordinates = [y for x, y in nested_list]\n",
    "print(\"x-coordinates:\", x_coordinates)\n",
    "print(\"y-coordinates:\", y_coordinates)"
   ]
  },
  {
   "cell_type": "code",
   "execution_count": 1,
   "id": "6e97ec1c-495e-48dd-8bd1-97b0da99dae6",
   "metadata": {},
   "outputs": [
    {
     "name": "stdout",
     "output_type": "stream",
     "text": [
      "Original Matrix:\n",
      "[1, 2, 3]\n",
      "[4, 5, 6]\n",
      "[7, 8, 9]\n",
      "\n",
      "Transposed Matrix:\n",
      "[1, 4, 7]\n",
      "[2, 5, 8]\n",
      "[3, 6, 9]\n"
     ]
    }
   ],
   "source": [
    "#no.63\n",
    "def transpose_matrix(matrix):\n",
    "    return [list(row) for row in zip(*matrix)]\n",
    "matrix = [\n",
    "    [1, 2, 3],\n",
    "    [4, 5, 6],\n",
    "    [7, 8, 9]\n",
    "]\n",
    "transposed_matrix = transpose_matrix(matrix)\n",
    "print(\"Original Matrix:\")\n",
    "for row in matrix:\n",
    "    print(row)\n",
    "print(\"\\nTransposed Matrix:\")\n",
    "for row in transposed_matrix:\n",
    "    print(row)"
   ]
  },
  {
   "cell_type": "code",
   "execution_count": 2,
   "id": "06eb7ab2-f5b9-41af-9071-1f1810985a90",
   "metadata": {},
   "outputs": [
    {
     "name": "stdout",
     "output_type": "stream",
     "text": [
      "Flattened List: [1, 2, 3, 4, 5, 6, 7, 8, 9]\n"
     ]
    }
   ],
   "source": [
    "#no.64\n",
    "def flatten_list(nested_list):\n",
    "    return [item for sublist in nested_list for item in sublist]\n",
    "nested_list = [\n",
    "    [1, 2, 3],\n",
    "    [4, 5],\n",
    "    [6, 7, 8, 9]\n",
    "]\n",
    "flattened_list = flatten_list(nested_list)\n",
    "print(\"Flattened List:\", flattened_list)"
   ]
  },
  {
   "cell_type": "code",
   "execution_count": 5,
   "id": "77b30045-30dd-403f-bbe1-ce3493b5e0b9",
   "metadata": {},
   "outputs": [
    {
     "name": "stdout",
     "output_type": "stream",
     "text": [
      "Number of even numbers: 5\n"
     ]
    }
   ],
   "source": [
    "#no.65\n",
    "def count_even_numbers(nested_list):\n",
    "    count = 0\n",
    "    for sublist in nested_list:\n",
    "       \n",
    "        for num in sublist:\n",
    "            \n",
    "            if num % 2 == 0:\n",
    "                count += 1\n",
    "    return count\n",
    "nested_list = [[1, 2, 3], [4, 5, 6], [7, 8, 9, 10]]\n",
    "result = count_even_numbers(nested_list)\n",
    "print(\"Number of even numbers:\", result)"
   ]
  },
  {
   "cell_type": "code",
   "execution_count": 1,
   "id": "6efd2c3a-4b6e-4c30-9a97-e988d1d08ea5",
   "metadata": {},
   "outputs": [
    {
     "name": "stdout",
     "output_type": "stream",
     "text": [
      "10\n"
     ]
    }
   ],
   "source": [
    "#no.66\n",
    "def find_max_in_nested_list(nested_list):\n",
    "    def flatten_list(lst):\n",
    "        for item in lst:\n",
    "            if isinstance(item, list):\n",
    "                yield from flatten_list(item)\n",
    "            else:\n",
    "                yield item\n",
    "    flat_list = list(flatten_list(nested_list))\n",
    "    return max(flat_list)\n",
    "nested_list = [[1, 2, [3, 4]], [5, [6, [7, 8]], 9], 10]\n",
    "max_element = find_max_in_nested_list(nested_list)\n",
    "print(max_element)"
   ]
  },
  {
   "cell_type": "code",
   "execution_count": 3,
   "id": "1baebe82-c08a-409f-8255-3da521c7369b",
   "metadata": {},
   "outputs": [
    {
     "name": "stdout",
     "output_type": "stream",
     "text": [
      "15\n"
     ]
    }
   ],
   "source": [
    "#no.67\n",
    "def main_diagonal_sum(matrix):\n",
    "    n = len(matrix)\n",
    "    if not all(len(row) == n for row in matrix):\n",
    "        raise ValueError(\"The input must be a square matrix.\")\n",
    "    diagonal_sum = sum(matrix[i][i] for i in range(n))\n",
    "    return diagonal_sum\n",
    "square_matrix = [\n",
    "    [1, 2, 3],\n",
    "    [4, 5, 6],\n",
    "    [7, 8, 9]\n",
    "]\n",
    "result = main_diagonal_sum(square_matrix)\n",
    "print(result)\n"
   ]
  },
  {
   "cell_type": "code",
   "execution_count": 4,
   "id": "9670eace-b443-478f-8764-f49fb5d3f035",
   "metadata": {},
   "outputs": [
    {
     "name": "stdout",
     "output_type": "stream",
     "text": [
      "5 found at (1, 1)\n"
     ]
    }
   ],
   "source": [
    "#no.68\n",
    "def search_nested_list(nested_list, target):\n",
    "    for i in range(len(nested_list)):\n",
    "        for j in range(len(nested_list[i])):\n",
    "            if nested_list[i][j] == target:\n",
    "                return i, j\n",
    "    return None \n",
    "nested_list = [\n",
    "    [1, 2, 3],\n",
    "    [4, 5, 6],\n",
    "    [7, 8, 9]\n",
    "]\n",
    "target = 5\n",
    "result = search_nested_list(nested_list, target)\n",
    "if result:\n",
    "    print(target,'found at',result)\n",
    "else:\n",
    "    print(target, 'not found')\n"
   ]
  },
  {
   "cell_type": "code",
   "execution_count": 5,
   "id": "32d3fa0f-d1d6-4f23-b1d3-df0d1d510678",
   "metadata": {},
   "outputs": [
    {
     "name": "stdout",
     "output_type": "stream",
     "text": [
      "Unique elements: {1, 2, 3, 4, 5}\n"
     ]
    }
   ],
   "source": [
    "#no.69\n",
    "def get_unique_elements(input_list):\n",
    "    unique_set = set(input_list)\n",
    "    return unique_set\n",
    "input_list = [1, 2, 3, 4, 2, 3, 5, 1]\n",
    "unique_elements = get_unique_elements(input_list)\n",
    "print(\"Unique elements:\", unique_elements)"
   ]
  },
  {
   "cell_type": "code",
   "execution_count": 1,
   "id": "5126b235-a238-4161-8734-0510a1b913fa",
   "metadata": {},
   "outputs": [
    {
     "name": "stdout",
     "output_type": "stream",
     "text": [
      "{4, 5}\n"
     ]
    }
   ],
   "source": [
    "#no.70\n",
    "A = {1, 2, 3, 4, 5}\n",
    "B = {4, 5, 6, 7, 8}\n",
    "intersection = A.intersection(B)\n",
    "print(intersection)"
   ]
  },
  {
   "cell_type": "code",
   "execution_count": 2,
   "id": "1c9f443e-d9d3-4b9d-93f2-4638cf4e5253",
   "metadata": {},
   "outputs": [
    {
     "name": "stdout",
     "output_type": "stream",
     "text": [
      "{1, 2, 3, 4, 5, 6, 7, 8}\n"
     ]
    }
   ],
   "source": [
    "#no.71\n",
    "A = {1, 2, 3, 4, 5}\n",
    "B = {4, 5, 6, 7, 8}\n",
    "union = A.union(B)\n",
    "print(union)"
   ]
  },
  {
   "cell_type": "code",
   "execution_count": 3,
   "id": "73ffe1f4-d8fc-4777-8ad0-50823ad9094a",
   "metadata": {},
   "outputs": [
    {
     "name": "stdout",
     "output_type": "stream",
     "text": [
      "{1, 2, 3}\n"
     ]
    }
   ],
   "source": [
    "#no.72\n",
    "A = {1, 2, 3, 4, 5}\n",
    "B = {4, 5, 6, 7, 8}\n",
    "difference = A.difference(B)\n",
    "print(difference)"
   ]
  },
  {
   "cell_type": "code",
   "execution_count": 4,
   "id": "b4884e73-8bd6-4a7f-b951-5eb9b33a596b",
   "metadata": {},
   "outputs": [
    {
     "name": "stdout",
     "output_type": "stream",
     "text": [
      "{1, 2, 3, 6, 7, 8}\n"
     ]
    }
   ],
   "source": [
    "#no.73\n",
    "A = {1, 2, 3, 4, 5}\n",
    "B = {4, 5, 6, 7, 8}\n",
    "symmetric_difference = A.symmetric_difference(B)\n",
    "print(symmetric_difference)"
   ]
  },
  {
   "cell_type": "code",
   "execution_count": 6,
   "id": "8a4edbb4-0048-4742-9dca-af9b67177cfb",
   "metadata": {},
   "outputs": [
    {
     "name": "stdout",
     "output_type": "stream",
     "text": [
      "{4, 5}\n",
      "{4, 5, 6, 7, 8, 9}\n",
      "{8, 9, 6, 7}\n"
     ]
    }
   ],
   "source": [
    "#no.74\n",
    "A = {1, 2, 3, 4, 5}\n",
    "B = {4, 5, 6, 7}\n",
    "C = {6, 7, 8, 9}\n",
    "intersection_AB = A.intersection(B)\n",
    "union_BC = B.union(C)\n",
    "difference_CA = C.difference(A)\n",
    "print(intersection_AB)\n",
    "print(union_BC)\n",
    "print(difference_CA)\n"
   ]
  },
  {
   "cell_type": "code",
   "execution_count": 7,
   "id": "0f6d5286-0edb-416e-84ad-471a95f400ab",
   "metadata": {},
   "outputs": [
    {
     "name": "stdout",
     "output_type": "stream",
     "text": [
      "True\n"
     ]
    }
   ],
   "source": [
    "#no.75\n",
    "A = {1, 2, 3}\n",
    "B = {1, 2, 3, 4, 5}\n",
    "subset = A.issubset(B)\n",
    "print(subset)"
   ]
  },
  {
   "cell_type": "code",
   "execution_count": 8,
   "id": "a7132f82-b5a5-4fe6-9460-678c3f481695",
   "metadata": {},
   "outputs": [
    {
     "name": "stdout",
     "output_type": "stream",
     "text": [
      "True\n"
     ]
    }
   ],
   "source": [
    "#no.76\n",
    "A = {1, 2, 3, 4, 5}\n",
    "B = {2, 3}\n",
    "superset = A.issuperset(B)\n",
    "print(superset)"
   ]
  },
  {
   "cell_type": "code",
   "execution_count": 9,
   "id": "6f1397d7-70dc-4170-b3cc-15bd14fc71a4",
   "metadata": {},
   "outputs": [
    {
     "name": "stdin",
     "output_type": "stream",
     "text": [
      " 6 7 8 9\n"
     ]
    },
    {
     "name": "stdout",
     "output_type": "stream",
     "text": [
      "4\n"
     ]
    }
   ],
   "source": [
    "#no.77\n",
    "input_set = set(map(int, input().split()))\n",
    "elements = len(input_set)\n",
    "print(elements)"
   ]
  },
  {
   "cell_type": "code",
   "execution_count": 10,
   "id": "f608931e-352c-4db0-acd0-be38fd9c9737",
   "metadata": {},
   "outputs": [
    {
     "name": "stdin",
     "output_type": "stream",
     "text": [
      "Enter an element to check:  7\n"
     ]
    },
    {
     "name": "stdout",
     "output_type": "stream",
     "text": [
      "Not Found\n"
     ]
    }
   ],
   "source": [
    "#no.78\n",
    "given_set = {1, 2, 3, 4, 5}\n",
    "element = int(input(\"Enter an element to check: \"))\n",
    "if element in given_set:\n",
    "    print(\"Found\")\n",
    "else:\n",
    "    print(\"Not Found\")"
   ]
  },
  {
   "cell_type": "code",
   "execution_count": 12,
   "id": "ac5b52f5-6963-4c76-9214-1a3026659824",
   "metadata": {},
   "outputs": [
    {
     "name": "stdout",
     "output_type": "stream",
     "text": [
      "3\n"
     ]
    }
   ],
   "source": [
    "#no.79\n",
    "student_scores = {\n",
    "    \"X\": 85,\n",
    "    \"Y\": 92,\n",
    "    \"Z\": 78,\n",
    "}\n",
    "num_pairs = len(student_scores)\n",
    "print(num_pairs)"
   ]
  },
  {
   "cell_type": "code",
   "execution_count": 3,
   "id": "06280f96-2d04-4ad3-b7ae-cc2119762557",
   "metadata": {},
   "outputs": [
    {
     "name": "stdin",
     "output_type": "stream",
     "text": [
      " 0.7\n"
     ]
    },
    {
     "name": "stdout",
     "output_type": "stream",
     "text": [
      "Orange\n"
     ]
    }
   ],
   "source": [
    "#no.80\n",
    "items = {\"Apple\": 1.5,\n",
    "         \"Banana\": 0.5,\n",
    "         \"Orange\": 0.7}\n",
    "price = float(input())\n",
    "item = next((name for name, p in items.items() if p == price), \"No item found\")\n",
    "print(item)"
   ]
  },
  {
   "cell_type": "code",
   "execution_count": 6,
   "id": "84e1a8ec-3f79-47cb-9fa5-c21e206fc7c3",
   "metadata": {},
   "outputs": [
    {
     "name": "stdout",
     "output_type": "stream",
     "text": [
      "{'a': 1, 'b': 2, 'c': 3, 'd': 4}\n"
     ]
    }
   ],
   "source": [
    "#no.81\n",
    "dict1 = {'a': 1, 'b': 2}\n",
    "dict2 = {'c': 3, 'd': 4}\n",
    "merge= {**dict1, **dict2}\n",
    "print(merge)"
   ]
  },
  {
   "cell_type": "code",
   "execution_count": 8,
   "id": "4f49dfc3-9d93-4b2f-af18-834a2374b6fe",
   "metadata": {},
   "outputs": [
    {
     "name": "stdin",
     "output_type": "stream",
     "text": [
      "Enter item to remove:  orange\n"
     ]
    },
    {
     "name": "stdout",
     "output_type": "stream",
     "text": [
      "Removed orange\n",
      "{'apple': 5, 'banana': 3, 'grapes': 6}\n"
     ]
    }
   ],
   "source": [
    "#no.82\n",
    "items = {'apple': 5, 'banana': 3, 'orange': 8, 'grapes': 6}\n",
    "item = input(\"Enter item to remove: \").lower()\n",
    "if item in items:\n",
    "    del items[item]\n",
    "    print(f\"Removed {item}\")\n",
    "else:\n",
    "    print(f\"{item} not found\")\n",
    "print(items)"
   ]
  },
  {
   "cell_type": "code",
   "execution_count": 9,
   "id": "8a585f18-9015-414d-9378-fbf1a703605d",
   "metadata": {},
   "outputs": [
    {
     "name": "stdout",
     "output_type": "stream",
     "text": [
      "{'Y': 25, 'X': 30, 'Z': 35}\n"
     ]
    }
   ],
   "source": [
    "#no.83\n",
    "people = {\n",
    "    'X': 30,\n",
    "    'Y': 25,\n",
    "    'Z': 35,\n",
    "}\n",
    "sorted_people = dict(sorted(people.items(), key=lambda item: item[1]))\n",
    "print(sorted_people)"
   ]
  },
  {
   "cell_type": "code",
   "execution_count": 10,
   "id": "784f76ae-989e-4c42-aed2-9a2601456377",
   "metadata": {},
   "outputs": [
    {
     "name": "stdin",
     "output_type": "stream",
     "text": [
      "Enter a string:  x y z\n"
     ]
    },
    {
     "name": "stdout",
     "output_type": "stream",
     "text": [
      "Character frequencies: {'x': 1, ' ': 2, 'y': 1, 'z': 1}\n"
     ]
    }
   ],
   "source": [
    "#no.84\n",
    "input_string = input(\"Enter a string: \")\n",
    "char_frequency = {}\n",
    "for char in input_string:\n",
    "    if char in char_frequency:\n",
    "        char_frequency[char] += 1\n",
    "    else:\n",
    "        char_frequency[char] = 1\n",
    "print(\"Character frequencies:\", char_frequency)"
   ]
  },
  {
   "cell_type": "code",
   "execution_count": 11,
   "id": "fbd880b2-e4b2-4c08-b1bf-1869baa1a406",
   "metadata": {},
   "outputs": [
    {
     "name": "stdout",
     "output_type": "stream",
     "text": [
      "{1: 1, 2: 4, 3: 9, 4: 16, 5: 25}\n"
     ]
    }
   ],
   "source": [
    "#no.85\n",
    "numbers = [1, 2, 3, 4, 5]\n",
    "squared_dict = {num: num**2 for num in numbers}\n",
    "print(squared_dict)"
   ]
  },
  {
   "cell_type": "code",
   "execution_count": 13,
   "id": "19e9a075-ff44-4407-bc47-171ffeed79fc",
   "metadata": {},
   "outputs": [
    {
     "name": "stdin",
     "output_type": "stream",
     "text": [
      " apple\n"
     ]
    },
    {
     "name": "stdout",
     "output_type": "stream",
     "text": [
      "Key Found\n"
     ]
    }
   ],
   "source": [
    "#no.86\n",
    "my_dict = {'apple': 5, 'banana': 3, 'orange': 8, 'grapes': 6}\n",
    "key = input().lower()  \n",
    "if key in my_dict:\n",
    "    print(\"Key Found\")\n",
    "else:\n",
    "    print(\"Key Not Found\")"
   ]
  },
  {
   "cell_type": "code",
   "execution_count": 15,
   "id": "523141ba-f68c-48dc-934d-b9c599014ccb",
   "metadata": {},
   "outputs": [
    {
     "name": "stdout",
     "output_type": "stream",
     "text": [
      "Student ID: student1\n",
      "Name: X\n",
      "Age: 20\n",
      "Address: Khulna\n",
      "\n",
      "Student ID: student2\n",
      "Name: Y\n",
      "Age: 22\n",
      "Address: Dhaka\n",
      "\n"
     ]
    }
   ],
   "source": [
    "#no.87\n",
    "student_details = {\n",
    "    'student1': {'name': 'X', 'age': 20, 'address':'Khulna'},\n",
    "    'student2': {'name': 'Y', 'age': 22, 'address': 'Dhaka'},\n",
    "}\n",
    "for student_id, details in student_details.items():\n",
    "    name = details['name']\n",
    "    age = details['age']\n",
    "    address = details['address']\n",
    "    print(f\"Student ID: {student_id}\")\n",
    "    print(f\"Name: {name}\")\n",
    "    print(f\"Age: {age}\")\n",
    "    print(f\"Address: {address}\\n\")"
   ]
  },
  {
   "cell_type": "code",
   "execution_count": 16,
   "id": "8b52cd80-926d-4d09-9080-756a7636e0eb",
   "metadata": {},
   "outputs": [
    {
     "name": "stdout",
     "output_type": "stream",
     "text": [
      "6\n"
     ]
    }
   ],
   "source": [
    "#no.88\n",
    "nested_dict = {\n",
    "    'student1': {'name': 'X', 'age': 20, 'address': 'Khulna'},\n",
    "    'student2': {'name': 'Y', 'age': 22, 'address': 'Dhaka'},\n",
    "}\n",
    "total_pairs = 0\n",
    "for key, value in nested_dict.items():\n",
    "    total_pairs += len(value) \n",
    "print(total_pairs)"
   ]
  },
  {
   "cell_type": "code",
   "execution_count": 2,
   "id": "3707216a-5c16-4e12-8de4-bce1d7f4f48d",
   "metadata": {},
   "outputs": [
    {
     "name": "stdin",
     "output_type": "stream",
     "text": [
      "Enter the employee ID:  emp2\n",
      "Enter the new salary:  7000\n"
     ]
    },
    {
     "name": "stdout",
     "output_type": "stream",
     "text": [
      "Salary of Y has been updated to 7000.0\n",
      "{'emp1': {'name': 'X', 'salary': 50000}, 'emp2': {'name': 'Y', 'salary': 7000.0}}\n"
     ]
    }
   ],
   "source": [
    "#no.89\n",
    "employee_details = {\n",
    "    'emp1': {'name': 'X', 'salary': 50000},\n",
    "    'emp2': {'name': 'Y', 'salary': 55000},\n",
    "}\n",
    "employee_id = input(\"Enter the employee ID: \")\n",
    "new_salary = float(input(\"Enter the new salary: \"))\n",
    "if employee_id in employee_details:\n",
    "    employee_details[employee_id]['salary'] = new_salary\n",
    "    print(f\"Salary of {employee_details[employee_id]['name']} has been updated to {new_salary}\")\n",
    "else:\n",
    "    print(\"Employee ID not found.\")\n",
    "print(employee_details)"
   ]
  },
  {
   "cell_type": "code",
   "execution_count": 4,
   "id": "8e432f13-90af-491a-91a4-101c83b30fd8",
   "metadata": {},
   "outputs": [
    {
     "name": "stdout",
     "output_type": "stream",
     "text": [
      "Sorted products based on price (ascending):\n",
      "Banana: Price =1.2, Quantity = 150\n",
      "Apple: Price =3.5, Quantity = 100\n"
     ]
    }
   ],
   "source": [
    "#no.90\n",
    "products = {\n",
    "    'product1': {'name': 'Apple', 'price': 3.5, 'quantity': 100},\n",
    "    'product2': {'name': 'Banana', 'price': 1.2, 'quantity': 150},\n",
    "}\n",
    "sorted_products = dict(sorted(products.items(), key= lambda x: x[1]['price']))\n",
    "print(\"Sorted products based on price (ascending):\")\n",
    "for product_id, details in sorted_products.items():\n",
    "    print(f\"{details['name']}: Price ={details['price']}, Quantity = {details['quantity']}\")"
   ]
  },
  {
   "cell_type": "code",
   "execution_count": 4,
   "id": "7a76e93c-bab4-4d0c-bfa9-cca5e9670452",
   "metadata": {},
   "outputs": [
    {
     "name": "stdin",
     "output_type": "stream",
     "text": [
      " a\n"
     ]
    },
    {
     "name": "stdout",
     "output_type": "stream",
     "text": [
      "Key Found: {'b': {'c': 'd'}}\n"
     ]
    }
   ],
   "source": [
    "#no.91\n",
    "def key(nested_dictionary, key):\n",
    "    for k, v in nested_dictionary.items():\n",
    "        if k == key:\n",
    "            print(f\"Key Found: {v}\")\n",
    "            return\n",
    "        elif isinstance(v, dict):\n",
    "           key(v, key)\n",
    "    else:\n",
    "        print(\"Key Not Found\")\n",
    "nested_dictionary = {\n",
    "    'a': {'b': {'c': 'd'}},\n",
    "    'e': 'f'\n",
    "}\n",
    "key_to_search = input()\n",
    "key(nested_dictionary, key_to_search)"
   ]
  },
  {
   "cell_type": "code",
   "execution_count": 6,
   "id": "e92e88a9-f9d2-4928-aec7-7587d5301b14",
   "metadata": {},
   "outputs": [
    {
     "name": "stdin",
     "output_type": "stream",
     "text": [
      "Enter a number:  5\n"
     ]
    },
    {
     "name": "stdout",
     "output_type": "stream",
     "text": [
      "Prime number\n"
     ]
    }
   ],
   "source": [
    "#no.92\n",
    "def prime(number):\n",
    "    if number <= 1: \n",
    "        print(\"Not a prime number\")\n",
    "        return\n",
    "\n",
    "    for i in range(2, int(number**0.5) + 1): \n",
    "        if number % i == 0: \n",
    "            print(\"Not a prime number\")\n",
    "            return\n",
    "    print(\"Prime number\")\n",
    "num = int(input(\"Enter a number: \"))\n",
    "prime(num)"
   ]
  },
  {
   "cell_type": "code",
   "execution_count": 7,
   "id": "67f0e18d-2711-4d65-bafb-59cff6cec6b1",
   "metadata": {},
   "outputs": [
    {
     "name": "stdout",
     "output_type": "stream",
     "text": [
      "2\n",
      "4\n",
      "6\n",
      "8\n",
      "10\n",
      "12\n",
      "14\n",
      "16\n",
      "18\n",
      "20\n"
     ]
    }
   ],
   "source": [
    "#no.93\n",
    "for num in range(1, 21): \n",
    "    if num % 2 != 0: \n",
    "        continue  \n",
    "    print(num) "
   ]
  },
  {
   "cell_type": "code",
   "execution_count": 8,
   "id": "37a0ee05-13e5-4933-a532-e7119f1cf08d",
   "metadata": {},
   "outputs": [
    {
     "name": "stdin",
     "output_type": "stream",
     "text": [
      "Enter your password:  DSbhghffc687\n"
     ]
    },
    {
     "name": "stdout",
     "output_type": "stream",
     "text": [
      "Password accepted.\n"
     ]
    }
   ],
   "source": [
    "#no.94\n",
    "while True:  # Loop until a valid password is entered\n",
    "    password = input(\"Enter your password: \")\n",
    "\n",
    "    # Check the criteria\n",
    "    if len(password) < 8:\n",
    "        print(\"Password must be at least 8 characters long.\")\n",
    "        continue\n",
    "    if not any(char.islower() for char in password):\n",
    "        print(\"Password must contain at least one lowercase letter.\")\n",
    "        continue\n",
    "    if not any(char.isupper() for char in password):\n",
    "        print(\"Password must contain at least one uppercase letter.\")\n",
    "        continue\n",
    "    if not any(char.isdigit() for char in password):\n",
    "        print(\"Password must contain at least one digit.\")\n",
    "        continue\n",
    "\n",
    "    # If all criteria are met\n",
    "    print(\"Password accepted.\")\n",
    "    break"
   ]
  },
  {
   "cell_type": "code",
   "execution_count": 9,
   "id": "ae6778f1-ad18-4d14-9b78-6fd5ca71e8f0",
   "metadata": {},
   "outputs": [
    {
     "name": "stdout",
     "output_type": "stream",
     "text": [
      "3\n",
      "5\n",
      "6\n",
      "9\n",
      "10\n",
      "12\n",
      "15\n",
      "18\n",
      "20\n",
      "21\n",
      "24\n",
      "25\n",
      "27\n",
      "30\n",
      "33\n",
      "35\n",
      "36\n",
      "39\n",
      "40\n",
      "42\n",
      "45\n",
      "48\n",
      "50\n"
     ]
    }
   ],
   "source": [
    "#no.95\n",
    "for num in range(1, 51):\n",
    "    if num % 3 != 0 and num % 5 != 0: \n",
    "        continue \n",
    "    print(num) "
   ]
  },
  {
   "cell_type": "code",
   "execution_count": 10,
   "id": "e04ba895-46bc-4b42-8fc5-f5d951a5af11",
   "metadata": {},
   "outputs": [
    {
     "name": "stdin",
     "output_type": "stream",
     "text": [
      "Enter a positive number (or a negative number to stop):  8\n",
      "Enter a positive number (or a negative number to stop):  9\n",
      "Enter a positive number (or a negative number to stop):  -7\n"
     ]
    },
    {
     "name": "stdout",
     "output_type": "stream",
     "text": [
      "17.0\n"
     ]
    }
   ],
   "source": [
    "#no.96\n",
    "total = 0  \n",
    "number = 0 \n",
    "while number >= 0: \n",
    "    number = float(input(\"Enter a positive number (or a negative number to stop): \"))\n",
    "    if number >= 0: \n",
    "        total=total+number\n",
    "print(total)"
   ]
  },
  {
   "cell_type": "code",
   "execution_count": 19,
   "id": "7b367565-d97b-4973-a0c5-8702aef117e6",
   "metadata": {},
   "outputs": [
    {
     "name": "stdin",
     "output_type": "stream",
     "text": [
      "Enter a word:  yuio\n"
     ]
    },
    {
     "name": "stdout",
     "output_type": "stream",
     "text": [
      "'yuio' is not a palindrome.\n"
     ]
    }
   ],
   "source": [
    "#no.97\n",
    "def check_palindrome(word):\n",
    "    if len(word) < 3:\n",
    "        print(\"Word is too short to check.\")\n",
    "        return \n",
    "    if word == word[::-1]:\n",
    "        print(f\"'{word}' is a palindrome.\")\n",
    "    else:\n",
    "        print(f\"'{word}' is not a palindrome.\")\n",
    "word = input(\"Enter a word: \")\n",
    "check_palindrome(word)"
   ]
  },
  {
   "cell_type": "code",
   "execution_count": 20,
   "id": "dfeb8770-a46f-413f-a384-f5e075e5494c",
   "metadata": {},
   "outputs": [
    {
     "name": "stdout",
     "output_type": "stream",
     "text": [
      "The first odd number is: 1\n"
     ]
    }
   ],
   "source": [
    "#no.98\n",
    "def find_first_odd(numbers):\n",
    "    for num in numbers:\n",
    "        if num % 2 != 0:\n",
    "            print(f\"The first odd number is: {num}\")\n",
    "            break\n",
    "    else:\n",
    "        print(\"No odd number found.\")\n",
    "numbers = [1,2,3,4,5]\n",
    "find_first_odd(numbers)"
   ]
  },
  {
   "cell_type": "code",
   "execution_count": 22,
   "id": "c37a91fd-7a22-4da8-9f3f-6608d2136688",
   "metadata": {},
   "outputs": [
    {
     "name": "stdout",
     "output_type": "stream",
     "text": [
      "I have selected a number between 1 and 100. Try to guess it!\n"
     ]
    },
    {
     "name": "stdin",
     "output_type": "stream",
     "text": [
      "Enter your guess:  10\n"
     ]
    },
    {
     "name": "stdout",
     "output_type": "stream",
     "text": [
      "Too low! Try again.\n"
     ]
    },
    {
     "name": "stdin",
     "output_type": "stream",
     "text": [
      "Enter your guess:  20\n"
     ]
    },
    {
     "name": "stdout",
     "output_type": "stream",
     "text": [
      "Too high! Try again.\n"
     ]
    },
    {
     "name": "stdin",
     "output_type": "stream",
     "text": [
      "Enter your guess:  30\n"
     ]
    },
    {
     "name": "stdout",
     "output_type": "stream",
     "text": [
      "Too high! Try again.\n"
     ]
    },
    {
     "name": "stdin",
     "output_type": "stream",
     "text": [
      "Enter your guess:  15\n"
     ]
    },
    {
     "name": "stdout",
     "output_type": "stream",
     "text": [
      "Too low! Try again.\n"
     ]
    },
    {
     "name": "stdin",
     "output_type": "stream",
     "text": [
      "Enter your guess:  18\n"
     ]
    },
    {
     "name": "stdout",
     "output_type": "stream",
     "text": [
      "You've guessed the number\n"
     ]
    }
   ],
   "source": [
    "# no.99\n",
    "import random\n",
    "\n",
    "def guess_number():\n",
    "    number_to_guess = random.randint(1, 100)  \n",
    "    print(\"I have selected a number between 1 and 100. Try to guess it!\")\n",
    "\n",
    "    while True:\n",
    "        try:\n",
    "            guess = int(input(\"Enter your guess: \")) \n",
    "        except ValueError:\n",
    "            print(\"Please enter a valid number.\")\n",
    "            continue \n",
    "        if guess < number_to_guess:\n",
    "            print(\"Too low! Try again.\")\n",
    "            continue \n",
    "        elif guess > number_to_guess:\n",
    "            print(\"Too high! Try again.\")\n",
    "            continue\n",
    "        else:\n",
    "            print(\"You've guessed the number\")\n",
    "            break \n",
    "guess_number()"
   ]
  },
  {
   "cell_type": "code",
   "execution_count": 24,
   "id": "233f2fb5-bc12-476d-b677-d0176e8a31e8",
   "metadata": {},
   "outputs": [
    {
     "name": "stdin",
     "output_type": "stream",
     "text": [
      "Enter a string:  read\n"
     ]
    },
    {
     "name": "stdout",
     "output_type": "stream",
     "text": [
      "The number of vowels in the string is: 2\n"
     ]
    }
   ],
   "source": [
    "#no.100\n",
    "def count_vowels(input_string):\n",
    "    vowels = \"aeiouAEIOU\"  \n",
    "    vowel_count = 0  \n",
    "    for char in input_string:\n",
    "        if char not in vowels:\n",
    "            continue  \n",
    "        vowel_count += 1 \n",
    "    return vowel_count\n",
    "input_string = input(\"Enter a string: \")\n",
    "vowel_count = count_vowels(input_string)\n",
    "print(f\"The number of vowels in the string is: {vowel_count}\")"
   ]
  },
  {
   "cell_type": "code",
   "execution_count": 25,
   "id": "148c140a-48a3-4c4c-ba25-58b87da71e0c",
   "metadata": {},
   "outputs": [
    {
     "name": "stdin",
     "output_type": "stream",
     "text": [
      "Enter a string:  ffhgfh\n"
     ]
    },
    {
     "name": "stdout",
     "output_type": "stream",
     "text": [
      "The string does not have all unique characters.\n"
     ]
    }
   ],
   "source": [
    "#no.101\n",
    "def check_unique_characters(input_string):\n",
    "    seen_characters = set() \n",
    "\n",
    "    for char in input_string:\n",
    "        if char in seen_characters: \n",
    "            print(\"The string does not have all unique characters.\")\n",
    "            return \n",
    "        seen_characters.add(char)  \n",
    "    print(\"The string has all unique characters.\")\n",
    "input_string = input(\"Enter a string: \")\n",
    "check_unique_characters(input_string)"
   ]
  },
  {
   "cell_type": "code",
   "execution_count": 26,
   "id": "97a463b5-f38c-4f4c-b398-71ea4e191108",
   "metadata": {},
   "outputs": [
    {
     "name": "stdout",
     "output_type": "stream",
     "text": [
      "Factorial of 5: 120\n"
     ]
    }
   ],
   "source": [
    "#no.102\n",
    "def factorial(n):\n",
    "    if n == 0:\n",
    "        return 1 \n",
    "    else:\n",
    "        return n * factorial(n - 1)  \n",
    "\n",
    "print(\"Factorial of 5:\",factorial(5)) "
   ]
  },
  {
   "cell_type": "code",
   "execution_count": 27,
   "id": "7f7d3a2d-c5d5-4501-93ac-d5ce6bda3eed",
   "metadata": {},
   "outputs": [
    {
     "name": "stdout",
     "output_type": "stream",
     "text": [
      "True\n"
     ]
    }
   ],
   "source": [
    "#no.103\n",
    "def is_palindrome(word):\n",
    "    word = word.lower()\n",
    "    if word == word[::-1]:\n",
    "        return True\n",
    "    else:\n",
    "        return False\n",
    "print(is_palindrome(\"racecar\"))  "
   ]
  },
  {
   "cell_type": "code",
   "execution_count": 1,
   "id": "1be7945a-8b63-400b-bff2-191ddc331f05",
   "metadata": {},
   "outputs": [
    {
     "name": "stdin",
     "output_type": "stream",
     "text": [
      " 67\n"
     ]
    },
    {
     "name": "stdout",
     "output_type": "stream",
     "text": [
      "Odd\n"
     ]
    }
   ],
   "source": [
    "#no.104\n",
    "def even_or_odd(number):\n",
    "    if number % 2 == 0:\n",
    "        return \"Even\"\n",
    "    else:\n",
    "        return \"Odd\"\n",
    "print(even_or_odd(int(input()))) "
   ]
  },
  {
   "cell_type": "code",
   "execution_count": 2,
   "id": "495be695-068e-4e46-9bc2-4a98bd37e4ff",
   "metadata": {},
   "outputs": [
    {
     "name": "stdout",
     "output_type": "stream",
     "text": [
      "15\n"
     ]
    }
   ],
   "source": [
    "#no.105\n",
    "def list_sum(numbers):\n",
    "    total = 0 \n",
    "    for num in numbers:\n",
    "        total += num  \n",
    "    return total\n",
    "print(list_sum([1, 2, 3, 4, 5]))      "
   ]
  },
  {
   "cell_type": "code",
   "execution_count": 3,
   "id": "a1430519-b08f-4f61-8950-c2b336adc8aa",
   "metadata": {},
   "outputs": [
    {
     "name": "stdout",
     "output_type": "stream",
     "text": [
      "6\n"
     ]
    }
   ],
   "source": [
    "#no.106\n",
    "def gcd(a, b):\n",
    "    while b:\n",
    "        a, b = b, a % b  \n",
    "    return a  \n",
    "print(gcd(48, 18))  "
   ]
  },
  {
   "cell_type": "code",
   "execution_count": 4,
   "id": "fc77e2c4-9a09-47c2-ac71-e32e60643b2c",
   "metadata": {},
   "outputs": [
    {
     "name": "stdout",
     "output_type": "stream",
     "text": [
      "True\n"
     ]
    }
   ],
   "source": [
    "#no.107\n",
    "def is_leap_year(year):\n",
    "    if (year % 4 == 0 and year % 100 != 0) or (year % 400 == 0):\n",
    "        return True\n",
    "    else:\n",
    "        return False\n",
    "print(is_leap_year(2020)) "
   ]
  },
  {
   "cell_type": "code",
   "execution_count": 6,
   "id": "d244fa36-ba3a-4de8-8a31-8d788e8f2982",
   "metadata": {},
   "outputs": [
    {
     "name": "stdin",
     "output_type": "stream",
     "text": [
      " 8\n",
      " 9\n",
      " add\n"
     ]
    },
    {
     "name": "stdout",
     "output_type": "stream",
     "text": [
      "17\n"
     ]
    }
   ],
   "source": [
    "#no.108\n",
    "def math_operations(num1, num2, operation):\n",
    "    \n",
    "    def add():\n",
    "        return num1 + num2\n",
    "    \n",
    "    def subtract():\n",
    "        return num1 - num2\n",
    "    \n",
    "    def multiply():\n",
    "        return num1 * num2\n",
    "    \n",
    "    def divide():\n",
    "        if num2 != 0:\n",
    "            return num1 / num2\n",
    "        else:\n",
    "            return \"Error: Division by zero is not allowed.\"\n",
    "    \n",
    "    if operation == \"add\":\n",
    "        return add()\n",
    "    elif operation == \"subtract\":\n",
    "        return subtract()\n",
    "    elif operation == \"multiply\":\n",
    "        return multiply()\n",
    "    elif operation == \"divide\":\n",
    "        return divide()\n",
    "    else:\n",
    "        return \"Error: Invalid operation.\"\n",
    "num1=int(input())\n",
    "num2=int(input())\n",
    "operations=input()\n",
    "print(math_operations(num1,num2,operations))"
   ]
  },
  {
   "cell_type": "code",
   "execution_count": 7,
   "id": "c39d0deb-cc0e-4ff7-909e-bd4d3a4e89c6",
   "metadata": {},
   "outputs": [
    {
     "name": "stdout",
     "output_type": "stream",
     "text": [
      "Hello, X! How are you today?\n"
     ]
    }
   ],
   "source": [
    "#no.109\n",
    "def greeting_generator(name):\n",
    "    def greeting_message():\n",
    "        return f\"Hello, {name}! How are you today?\"\n",
    "    def formal_greeting():\n",
    "        return f\"Good day, Mr./Ms. {name}. I hope you're doing well.\"\n",
    "    def casual_greeting():\n",
    "        return f\"Hey {name}! What's up?\"\n",
    "    return greeting_message()\n",
    "print(greeting_generator(\"X\"))   "
   ]
  },
  {
   "cell_type": "code",
   "execution_count": 8,
   "id": "3d8be34c-6a10-4697-9113-c37ddb69e5ea",
   "metadata": {},
   "outputs": [
    {
     "name": "stdin",
     "output_type": "stream",
     "text": [
      " 6\n",
      " K\n"
     ]
    },
    {
     "name": "stdout",
     "output_type": "stream",
     "text": [
      "Error: Invalid scale. Please use 'C' for Celsius or 'F' for Fahrenheit.\n"
     ]
    }
   ],
   "source": [
    "#no.110\n",
    "def temperature_converter(temp, scale):\n",
    "    def celsius_to_fahrenheit():\n",
    "        return (temp * 9/5) + 32\n",
    "    def fahrenheit_to_celsius():\n",
    "        return (temp - 32) * 5/9\n",
    "    if scale == 'C':\n",
    "        return celsius_to_fahrenheit() \n",
    "    elif scale == 'F':\n",
    "        return fahrenheit_to_celsius() \n",
    "    else:\n",
    "        return \"Error: Invalid scale. Please use 'C' for Celsius or 'F' for Fahrenheit.\"\n",
    "temp=int(input())\n",
    "scale=input()\n",
    "print(temperature_converter(temp, scale))"
   ]
  },
  {
   "cell_type": "code",
   "execution_count": 9,
   "id": "a44c4efc-3150-4aa2-a21c-70fce573b09a",
   "metadata": {},
   "outputs": [
    {
     "name": "stdin",
     "output_type": "stream",
     "text": [
      " 5\n"
     ]
    },
    {
     "name": "stdout",
     "output_type": "stream",
     "text": [
      "120\n"
     ]
    }
   ],
   "source": [
    "#no.111\n",
    "def factorial(n):\n",
    "    if n == 0 or n == 1:\n",
    "        return 1\n",
    "    else:\n",
    "        return n * factorial(n - 1)\n",
    "print(factorial(int(input())))"
   ]
  },
  {
   "cell_type": "code",
   "execution_count": 12,
   "id": "4448bd4a-e7fe-41bb-882e-535e4691b56d",
   "metadata": {},
   "outputs": [
    {
     "name": "stdin",
     "output_type": "stream",
     "text": [
      " 10\n"
     ]
    },
    {
     "name": "stdout",
     "output_type": "stream",
     "text": [
      "55\n"
     ]
    }
   ],
   "source": [
    "#no.112\n",
    "def fibonacci(n):\n",
    "    if n == 0:\n",
    "        return 0\n",
    "    elif n == 1:\n",
    "        return 1\n",
    "    else:\n",
    "        return Fibonacci(n - 1) + Fibonacci(n - 2)\n",
    "print(fibonacci(int(input())))"
   ]
  },
  {
   "cell_type": "code",
   "execution_count": 13,
   "id": "98dcf815-cc48-416d-9805-a7775c75c719",
   "metadata": {},
   "outputs": [
    {
     "name": "stdin",
     "output_type": "stream",
     "text": [
      " 69\n"
     ]
    },
    {
     "name": "stdout",
     "output_type": "stream",
     "text": [
      "15\n"
     ]
    }
   ],
   "source": [
    "#no.113\n",
    "def sum_of_digits(n):\n",
    "    if n == 0:\n",
    "        return 0\n",
    "    else:\n",
    "        return n % 10 + sum_of_digits(n // 10)\n",
    "n=int(input())\n",
    "print(sum_of_digits(n))"
   ]
  },
  {
   "cell_type": "code",
   "execution_count": 14,
   "id": "3cf9d80f-ccd9-4bf9-8444-4c5e8b63408a",
   "metadata": {},
   "outputs": [
    {
     "name": "stdout",
     "output_type": "stream",
     "text": [
      "3\n"
     ]
    }
   ],
   "source": [
    "#no.114\n",
    "def binary_search(sorted_list, target):\n",
    "    if len(sorted_list) == 0:\n",
    "        return -1\n",
    "    mid = len(sorted_list) // 2\n",
    "    if sorted_list[mid] == target:\n",
    "        return mid\n",
    "    elif sorted_list[mid] > target:\n",
    "        return binary_search(sorted_list[:mid], target)\n",
    "    else:\n",
    "        result = binary_search(sorted_list[mid + 1:], target)\n",
    "        if result == -1:\n",
    "            return -1\n",
    "        else:\n",
    "            return mid + 1 + result\n",
    "sorted_list = [1, 3, 5, 7, 9, 11, 13, 15]\n",
    "target = 7\n",
    "print(binary_search(sorted_list, target)) "
   ]
  },
  {
   "cell_type": "code",
   "execution_count": 15,
   "id": "dffad788-4805-4611-84a2-6a0c0c3285d7",
   "metadata": {},
   "outputs": [
    {
     "name": "stdin",
     "output_type": "stream",
     "text": [
      " 4\n",
      " 6\n"
     ]
    },
    {
     "name": "stdout",
     "output_type": "stream",
     "text": [
      "4096\n"
     ]
    }
   ],
   "source": [
    "#no.115\n",
    "def power(base, exponent):\n",
    "    if exponent == 0:\n",
    "        return 1\n",
    "    else:\n",
    "        return base * power(base, exponent - 1)\n",
    "base=int(input())\n",
    "exponent=int(input())\n",
    "print(power(base, exponent))  "
   ]
  }
 ],
 "metadata": {
  "kernelspec": {
   "display_name": "Python 3 (ipykernel)",
   "language": "python",
   "name": "python3"
  },
  "language_info": {
   "codemirror_mode": {
    "name": "ipython",
    "version": 3
   },
   "file_extension": ".py",
   "mimetype": "text/x-python",
   "name": "python",
   "nbconvert_exporter": "python",
   "pygments_lexer": "ipython3",
   "version": "3.12.7"
  }
 },
 "nbformat": 4,
 "nbformat_minor": 5
}
